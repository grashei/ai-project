{
 "cells": [
  {
   "cell_type": "code",
   "execution_count": 7,
   "outputs": [
    {
     "data": {
      "text/plain": "<torch._C.Generator at 0x211b9cc4610>"
     },
     "execution_count": 7,
     "metadata": {},
     "output_type": "execute_result"
    }
   ],
   "source": [
    "import pickle\n",
    "import random\n",
    "import time\n",
    "from math import ceil\n",
    "from typing import List\n",
    "from typing import Set\n",
    "from typing import Tuple\n",
    "\n",
    "import numpy as np\n",
    "import torch\n",
    "from matplotlib import pyplot as plt\n",
    "from matplotlib.ticker import FuncFormatter\n",
    "from torch import Tensor\n",
    "from torch import nn\n",
    "from torch.utils.data import Dataset, DataLoader\n",
    "from tqdm import tqdm\n",
    "\n",
    "from evaluation import MyPredictionModel\n",
    "from evaluation import evaluate_graphs\n",
    "from graph import Graph\n",
    "from mapping import Mapper, FamilyIdMapper, PartIdMapper\n",
    "from node import Node\n",
    "from part import Part\n",
    "from utils import load_graphs\n",
    "\n",
    "device = torch.device(\"cuda\" if torch.cuda.is_available() else \"mps\" if torch.has_mps else \"cpu\")\n",
    "seed = 42\n",
    "random.seed(seed)\n",
    "np.random.seed(seed)\n",
    "torch.manual_seed(seed)"
   ],
   "metadata": {
    "collapsed": false
   }
  },
  {
   "cell_type": "code",
   "execution_count": 8,
   "outputs": [],
   "source": [
    "graphs = load_graphs()\n",
    "random.shuffle(graphs)"
   ],
   "metadata": {
    "collapsed": false
   }
  },
  {
   "cell_type": "code",
   "execution_count": 9,
   "outputs": [
    {
     "data": {
      "text/plain": "<Figure size 640x480 with 1 Axes>",
      "image/png": "[encoded data removed]"
     },
     "metadata": {},
     "output_type": "display_data"
    }
   ],
   "source": [
    "a = [len(g.get_nodes()) for g in graphs]\n",
    "_ = plt.hist(a)  # arguments are passed to np.histogram\n",
    "plt.title(\"Graph Node Count Histogram\")\n",
    "plt.xlabel(\"#Nodes per Graph\")\n",
    "plt.ylabel(\"Frequency\")\n",
    "plt.show()"
   ],
   "metadata": {
    "collapsed": false
   }
  },
  {
   "cell_type": "markdown",
   "source": [
    "Load graphs dataset, shuffle it and split it into training, validation and test set."
   ],
   "metadata": {
    "collapsed": false
   }
  },
  {
   "cell_type": "code",
   "execution_count": 10,
   "outputs": [],
   "source": [
    "training_set_size_ratio = 0.8\n",
    "validation_set_size_ratio = 0.10\n",
    "test_size_ratio = 0.10\n",
    "\n",
    "assert training_set_size_ratio + test_size_ratio + validation_set_size_ratio == 1"
   ],
   "metadata": {
    "collapsed": false
   }
  },
  {
   "cell_type": "markdown",
   "source": [
    "# Dense Family ID Mapping\n",
    "All parts have a family that lies between 0 and 95 (inclusive). However, some family IDs, like 16, don't appear in the dataset. We create a dense family ID mapping and use dense family IDs to shorten our model's feature vector. For example, family ID 17 is converted to dense Family ID 16 due to the gap Family ID 16 left."
   ],
   "metadata": {
    "collapsed": false
   }
  },
  {
   "cell_type": "code",
   "execution_count": 11,
   "outputs": [],
   "source": [
    "fam_mapper = FamilyIdMapper(graphs)\n",
    "\n",
    "\n",
    "def get_ofid(self):\n",
    "    \"\"\"\n",
    "    :return: the original family if of the node's part\n",
    "    \"\"\"\n",
    "    return int(self.get_family_id())\n",
    "\n",
    "\n",
    "def get_dfid(self):\n",
    "    \"\"\"\n",
    "    :return: the dense family if of the node's part\n",
    "    \"\"\"\n",
    "    return fam_mapper.to_dense(self.get_ofid())\n",
    "\n",
    "\n",
    "# Add extension functions to nodes to make code easier to read\n",
    "Part.get_ofid = get_ofid\n",
    "Part.get_dfid = get_dfid"
   ],
   "metadata": {
    "collapsed": false
   }
  },
  {
   "cell_type": "markdown",
   "source": [
    "# Dense Part ID Mapping\n",
    "\n",
    "We compare the predictions of the model using only the family ID against using only the part ID. Hence we setup the part ID mapping analogously."
   ],
   "metadata": {
    "collapsed": false
   }
  },
  {
   "cell_type": "code",
   "execution_count": 12,
   "outputs": [],
   "source": [
    "part_mapper = PartIdMapper(graphs)\n",
    "\n",
    "def get_opid(self):\n",
    "    \"\"\"\n",
    "    :return: the original part id of the node's part\n",
    "    \"\"\"\n",
    "    return int(self.get_part_id())\n",
    "\n",
    "\n",
    "def get_dpid(self):\n",
    "    \"\"\"\n",
    "    :return: the dense part id of the node's part\n",
    "    \"\"\"\n",
    "    return part_mapper.to_dense(self.get_opid())\n",
    "\n",
    "\n",
    "# Add extension functions to nodes to make code easier to read\n",
    "Part.get_opid = get_opid\n",
    "Part.get_dpid = get_dpid"
   ],
   "metadata": {
    "collapsed": false
   }
  },
  {
   "cell_type": "markdown",
   "source": [
    "# Model Hyperparameters\n",
    "\n",
    "For initially comparing the two models we set the hyperparameters as following. We do hyperparameter optimization later as we determined the better alternative between using only family IDs or only part IDs as features"
   ],
   "metadata": {
    "collapsed": false
   }
  },
  {
   "cell_type": "code",
   "execution_count": 13,
   "outputs": [],
   "source": [
    "batch_size = 512\n",
    "\n",
    "input_size_fam = 2 * len(fam_mapper)  # 184\n",
    "hidden_size_fam = 2 * input_size_fam # 368\n",
    "output_size_fam = len(fam_mapper)  # 92\n",
    "\n",
    "input_size_part = 2 * len(part_mapper)  # 2162\n",
    "hidden_size_part = 2 * input_size_part # 4324\n",
    "output_size_part = len(part_mapper)  # 1081\n",
    "\n",
    "\n",
    "learning_rate = 0.003\n",
    "num_epochs = 50"
   ],
   "metadata": {
    "collapsed": false
   }
  },
  {
   "cell_type": "markdown",
   "source": [
    "# Our Model\n",
    "\n",
    "It is a simple Feedforward neural network consisting of just one hidden layer. This makes it extremely efficient. The model does not directly predict the edges for a set of parts. Instead, it predicts all the neighbors of one node of a Graph."
   ],
   "metadata": {
    "collapsed": false
   }
  },
  {
   "cell_type": "code",
   "execution_count": 14,
   "outputs": [],
   "source": [
    "class Net(nn.Module):\n",
    "    def __init__(self, input_size, hidden_size, output_size):\n",
    "        super(Net, self).__init__()\n",
    "        self.fc1 = nn.Linear(input_size, 2 * hidden_size)\n",
    "        self.fc2 = nn.Linear(2 * hidden_size, hidden_size)\n",
    "        self.fc3 = nn.Linear(hidden_size, output_size)\n",
    "\n",
    "    def forward(self, x):\n",
    "        x = torch.relu(self.fc1(x))\n",
    "        x = torch.relu(self.fc2(x))\n",
    "        x = torch.sigmoid(self.fc3(x))\n",
    "        return x"
   ],
   "metadata": {
    "collapsed": false
   }
  },
  {
   "cell_type": "markdown",
   "source": [
    "## Model Features\n",
    "\n",
    "The model takes a 1D tensor that can be divided into two parts `all_nodes_tensor` (first half) and `given_node_tensor` (second half):\n",
    "- `all_nodes_tensor`: one-hot encoded dense family IDs for each part that we should use to build the graph. E.g., (1,0,3,0,...,0) means that the graph consists of one part with dense family ID 0 and three parts with dense family ID 2.\n",
    "- `given_node_tensor`: one-hot encoded dense family ID for which the model should predict its neighbors. E.g., (0,0,1,0,...,0) means that the model should predict the neighbors of all parts with dense family id 2.\n",
    "\n",
    "We do the same analogously for the approach using only the part IDs"
   ],
   "metadata": {
    "collapsed": false
   }
  },
  {
   "cell_type": "code",
   "execution_count": 15,
   "outputs": [],
   "source": [
    "def create_features_family_id(parts: Set[Part], fam_mapping: FamilyIdMapper) -> List[Tensor]:\n",
    "    parts_sorted = list(parts)\n",
    "    parts_sorted.sort()\n",
    "\n",
    "    num_different_family_ids = len(fam_mapping)\n",
    "\n",
    "    all_nodes_tensor = torch.zeros(num_different_family_ids, dtype=torch.float)\n",
    "\n",
    "    for part in parts_sorted:\n",
    "        dense_family_id = part.get_dfid()\n",
    "        all_nodes_tensor[dense_family_id] += 1.0\n",
    "\n",
    "    feature_tensors = []\n",
    "\n",
    "    for part in parts_sorted:\n",
    "        dense_family_id = part.get_dfid()\n",
    "        given_node_tensor = torch.zeros(num_different_family_ids, dtype=torch.float)\n",
    "        given_node_tensor[dense_family_id] = 1\n",
    "        feature_tensor = torch.cat((all_nodes_tensor, given_node_tensor), dim=-1)\n",
    "        feature_tensors.append(feature_tensor)\n",
    "\n",
    "    return feature_tensors\n",
    "\n",
    "def create_features_part_id(parts: Set[Part], part_mapper: PartIdMapper) -> List[Tensor]:\n",
    "    parts_sorted = list(parts)\n",
    "    parts_sorted.sort()\n",
    "\n",
    "    num_different_part_ids = len(part_mapper)\n",
    "\n",
    "    all_nodes_tensor = torch.zeros(num_different_part_ids, dtype=torch.float)\n",
    "\n",
    "    for part in parts_sorted:\n",
    "        dense_part_id = part.get_dpid()\n",
    "        all_nodes_tensor[dense_part_id] += 1.0\n",
    "\n",
    "    feature_tensors = []\n",
    "\n",
    "    for part in parts_sorted:\n",
    "        dense_part_id = part.get_dpid()\n",
    "        given_node_tensor = torch.zeros(num_different_part_ids, dtype=torch.float)\n",
    "        given_node_tensor[dense_part_id] = 1\n",
    "        feature_tensor = torch.cat((all_nodes_tensor, given_node_tensor), dim=-1)\n",
    "        feature_tensors.append(feature_tensor)\n",
    "\n",
    "    return feature_tensors"
   ],
   "metadata": {
    "collapsed": false
   }
  },
  {
   "cell_type": "markdown",
   "source": [
    "## Model Labels\n",
    "\n",
    "The model outputs a 1D tensor that represents the neighbors of a given node. E.g., (1,0,1,0,...,0) means that the given node (only) has two neighbors: one with dense family ID 0 and one with dense family ID 2. Analogously for the part IDs"
   ],
   "metadata": {
    "collapsed": false
   }
  },
  {
   "cell_type": "code",
   "execution_count": 16,
   "outputs": [],
   "source": [
    "def create_labels_family_id(graph: Graph, fam_mapping: FamilyIdMapper) -> List[Tensor]:\n",
    "    \"\"\"\n",
    "    Creates the ground truth tensors for a given graph in one hot encoded form by using the family ids\n",
    "    :param graph: The graph for which the tensors should be created\n",
    "    :param fam_mapping: The mapper for the family ids\n",
    "    :return: The list containing all ground truth tensors for the graph\n",
    "    \"\"\"\n",
    "    label_tensors = []\n",
    "\n",
    "    num_different_family_ids = len(fam_mapping)\n",
    "    edges = graph.get_edges()\n",
    "\n",
    "    for node in sorted(graph.get_nodes()):\n",
    "        target_tensor = torch.zeros(num_different_family_ids, dtype=torch.float)\n",
    "        for neighbour_node in edges[node]:\n",
    "            neighbour_node_dense_family_id = neighbour_node.get_part().get_dfid()\n",
    "            target_tensor[neighbour_node_dense_family_id] = 1\n",
    "        label_tensors.append(target_tensor)\n",
    "    return label_tensors\n",
    "\n",
    "\n",
    "def create_labels_part_id(graph: Graph, part_mapping: PartIdMapper) -> List[Tensor]:\n",
    "    \"\"\"\n",
    "    Creates the ground truth tensors for a given graph in one hot encoded form by using the part ids\n",
    "    :param graph: The graph for which the tensors should be created\n",
    "    :param part_mapping: The mapper for the part ids\n",
    "    :return: The list containing all ground truth tensors for the graph\n",
    "    \"\"\"\n",
    "    label_tensors = []\n",
    "\n",
    "    num_different_part_ids = len(part_mapping)\n",
    "    edges = graph.get_edges()\n",
    "\n",
    "    for node in sorted(graph.get_nodes()):\n",
    "        target_tensor = torch.zeros(num_different_part_ids, dtype=torch.float)\n",
    "        for neighbour_node in edges[node]:\n",
    "            neighbour_node_dense_part_id = neighbour_node.get_part().get_dpid()\n",
    "            target_tensor[neighbour_node_dense_part_id] = 1\n",
    "        label_tensors.append(target_tensor)\n",
    "    return label_tensors"
   ],
   "metadata": {
    "collapsed": false
   }
  },
  {
   "cell_type": "markdown",
   "source": [
    "## Train, validation and test split\n",
    "\n",
    "We split the dataset into train, val and test sets. The hyperparameters are only tuned on the validation dataset."
   ],
   "metadata": {
    "collapsed": false
   }
  },
  {
   "cell_type": "code",
   "execution_count": 17,
   "outputs": [],
   "source": [
    "train_upper = ceil(training_set_size_ratio * len(graphs))\n",
    "val_upper = ceil((training_set_size_ratio + validation_set_size_ratio) * len(graphs))\n",
    "\n",
    "train_graphs = graphs[0:train_upper]\n",
    "val_graphs = graphs[train_upper:val_upper]\n",
    "test_graphs = graphs[val_upper:len(graphs) + 1]"
   ],
   "metadata": {
    "collapsed": false
   }
  },
  {
   "cell_type": "markdown",
   "source": [
    "# Dataset & Dataloader\n",
    "\n",
    "In order to simplify training with PyTorch we create a dataset containing the input features and target labels based on the family id. During training we shuffle the dataset to prevent overfitting."
   ],
   "metadata": {
    "collapsed": false
   }
  },
  {
   "cell_type": "code",
   "execution_count": 18,
   "outputs": [],
   "source": [
    "def create_features_and_labels_family_id(graph: Graph, fam_mapping: FamilyIdMapper) -> Tuple[List[Tensor], List[Tensor]]:\n",
    "    feature_tensors = create_features_family_id(graph.get_parts(), fam_mapping)\n",
    "    label_tensors = create_labels_family_id(graph, fam_mapping)\n",
    "    return feature_tensors, label_tensors\n",
    "\n",
    "class GraphDatasetFamilyId(Dataset):\n",
    "    def __init__(self, graphs: List[Graph]):\n",
    "        x_list = []\n",
    "        y_list = []\n",
    "        for graph in graphs:\n",
    "            x_per_graph, y_per_graph = create_features_and_labels_family_id(graph, fam_mapper)\n",
    "            x_list += x_per_graph\n",
    "            y_list += y_per_graph\n",
    "        self.x_tensor = torch.stack(x_list)\n",
    "        self.y_tensor = torch.stack(y_list)\n",
    "        self.n_samples = self.y_tensor.shape[0]\n",
    "\n",
    "    def __getitem__(self, index):\n",
    "        return self.x_tensor[index], self.y_tensor[index]\n",
    "\n",
    "    def __len__(self):\n",
    "        return self.n_samples\n",
    "\n",
    "\n",
    "train_loader_fam_id = DataLoader(\n",
    "    dataset=GraphDatasetFamilyId(train_graphs),\n",
    "    batch_size=batch_size,\n",
    "    shuffle=True,\n",
    ")\n",
    "val_loader_fam_id = DataLoader(\n",
    "    dataset=GraphDatasetFamilyId(val_graphs),\n",
    "    batch_size=batch_size,\n",
    "    shuffle=False,\n",
    ")"
   ],
   "metadata": {
    "collapsed": false
   }
  },
  {
   "cell_type": "markdown",
   "source": [
    "Do the same for our features using only the part id"
   ],
   "metadata": {
    "collapsed": false
   }
  },
  {
   "cell_type": "code",
   "execution_count": 19,
   "outputs": [],
   "source": [
    "def create_features_and_labels_part_id(graph: Graph, part_mapping: PartIdMapper) -> Tuple[List[Tensor], List[Tensor]]:\n",
    "    feature_tensors = create_features_part_id(graph.get_parts(), part_mapping)\n",
    "    label_tensors = create_labels_part_id(graph, part_mapping)\n",
    "    return feature_tensors, label_tensors\n",
    "\n",
    "class GraphDatasetPartId(Dataset):\n",
    "    def __init__(self, graphs: List[Graph]):\n",
    "        x_list = []\n",
    "        y_list = []\n",
    "        for graph in graphs:\n",
    "            x_per_graph, y_per_graph = create_features_and_labels_part_id(graph, part_mapper)\n",
    "            x_list += x_per_graph\n",
    "            y_list += y_per_graph\n",
    "        self.x_tensor = torch.stack(x_list)\n",
    "        self.y_tensor = torch.stack(y_list)\n",
    "        self.n_samples = self.y_tensor.shape[0]\n",
    "\n",
    "    def __getitem__(self, index):\n",
    "        return self.x_tensor[index], self.y_tensor[index]\n",
    "\n",
    "    def __len__(self):\n",
    "        return self.n_samples\n",
    "\n",
    "\n",
    "train_loader_part_id = DataLoader(\n",
    "    dataset=GraphDatasetPartId(train_graphs),\n",
    "    batch_size=batch_size,\n",
    "    shuffle=True,\n",
    ")\n",
    "val_loader_part_id = DataLoader(\n",
    "    dataset=GraphDatasetPartId(val_graphs),\n",
    "    batch_size=batch_size,\n",
    "    shuffle=False,\n",
    ")"
   ],
   "metadata": {
    "collapsed": false
   }
  },
  {
   "cell_type": "markdown",
   "source": [
    "# Training routine\n",
    "\n",
    "Our training routing trains the given model with the given learning rate for the number of specified epochs. After each epoch it validates the current state of the model on the validation dataset. The stats for the loss and accuracy are tracked and is used for hyperparameter optimization and recognizing over- or underfitting of the model."
   ],
   "metadata": {
    "collapsed": false
   }
  },
  {
   "cell_type": "code",
   "execution_count": 20,
   "outputs": [],
   "source": [
    "def train(model, lr, epochs, train_loader, val_loader, show_progress=True):\n",
    "    optimizer = torch.optim.Adam(model.parameters(), lr=lr)\n",
    "    loss_fn = nn.BCELoss()\n",
    "    train_losses = []\n",
    "    val_losses = []\n",
    "\n",
    "    train_accuracies = []\n",
    "    val_accuracies = []\n",
    "\n",
    "    for _ in tqdm(range(epochs), ascii=\"░▒█\", disable=not show_progress):\n",
    "        train_losses_per_epoch = 0.0\n",
    "        train_accuracy_per_epoch = 0.0\n",
    "        for i, (x_train, y_train) in enumerate(train_loader):\n",
    "            x_train = x_train.to(device)\n",
    "            y_train = y_train.to(device)\n",
    "            y_pred = model(x_train)\n",
    "            loss = loss_fn(y_pred, y_train)\n",
    "            train_losses_per_epoch += loss.cpu().detach().numpy()\n",
    "            train_accuracy = torch.sum(y_train == y_pred.round()) / torch.numel(y_train)\n",
    "            train_accuracy_per_epoch += train_accuracy.cpu().detach().numpy()\n",
    "            optimizer.zero_grad()\n",
    "            loss.backward()\n",
    "            optimizer.step()\n",
    "\n",
    "        train_losses.append(train_losses_per_epoch / len(train_loader_fam_id))\n",
    "        train_accuracies.append(train_accuracy_per_epoch / len(train_loader_fam_id))\n",
    "\n",
    "        with torch.no_grad():\n",
    "            val_losses_per_epoch = 0.0\n",
    "            val_accuracies_per_epoch = 0.0\n",
    "            for i, (x_val, y_val) in enumerate(val_loader):\n",
    "                x_val = x_val.to(device)\n",
    "                y_val = y_val.to(device)\n",
    "                y_pred = model(x_val)\n",
    "                loss = loss_fn(y_pred, y_val)\n",
    "                val_accuracy = torch.sum(y_val == y_pred.round()) / torch.numel(y_val)\n",
    "                val_losses_per_epoch += loss.cpu()\n",
    "                val_accuracies_per_epoch += val_accuracy.cpu()\n",
    "            val_losses.append(val_losses_per_epoch / len(val_loader_fam_id))\n",
    "            val_accuracies.append(val_accuracies_per_epoch / len(val_loader_fam_id))\n",
    "\n",
    "    return train_losses, val_losses, train_accuracies, val_accuracies"
   ],
   "metadata": {
    "collapsed": false
   }
  },
  {
   "cell_type": "markdown",
   "source": [
    "# Training with family IDs\n",
    "\n",
    "First, our model is trained using only the family IDs. The time to train the model is measured and printed afterwards."
   ],
   "metadata": {
    "collapsed": false
   }
  },
  {
   "cell_type": "code",
   "execution_count": 22,
   "outputs": [
    {
     "name": "stderr",
     "output_type": "stream",
     "text": [
      "100%|██████████| 50/50 [00:41<00:00,  1.19it/s]"
     ]
    },
    {
     "name": "stdout",
     "output_type": "stream",
     "text": [
      "Execution time: 41.92 seconds\n"
     ]
    },
    {
     "name": "stderr",
     "output_type": "stream",
     "text": [
      "\n"
     ]
    }
   ],
   "source": [
    "model = Net(input_size=input_size_fam, hidden_size=hidden_size_fam, output_size=output_size_fam).to(device)\n",
    "\n",
    "st = time.time()\n",
    "train_losses_fam, val_losses_fam, train_accuracies_fam, val_accuracies_fam =\\\n",
    "    train(model=model, lr=learning_rate, epochs=num_epochs, train_loader=train_loader_fam_id, val_loader=val_loader_fam_id)\n",
    "\n",
    "et = time.time()\n",
    "print(f\"Execution time: {(et - st):.2f} seconds\")\n"
   ],
   "metadata": {
    "collapsed": false
   }
  },
  {
   "cell_type": "markdown",
   "source": [
    "Plot the resulting graphs of the training with family IDs"
   ],
   "metadata": {
    "collapsed": false
   }
  },
  {
   "cell_type": "code",
   "execution_count": 25,
   "outputs": [
    {
     "data": {
      "text/plain": "<Figure size 1800x400 with 2 Axes>",
      "image/png": "[encoded data removed]"
     },
     "metadata": {},
     "output_type": "display_data"
    }
   ],
   "source": [
    "fig, (ax1, ax2) = plt.subplots(nrows=1, ncols=2, figsize=(18, 4))\n",
    "\n",
    "ax1.set(xlabel='#Epochs', ylabel='Loss')\n",
    "fig.suptitle('Learning Progress')\n",
    "ax1.plot(train_losses_fam, label=\"Training Loss\")\n",
    "ax1.plot(val_losses_fam, label=\"Validation Loss\")\n",
    "ax1.legend()\n",
    "\n",
    "ax2.set(xlabel='#Epochs', ylabel='Accuracy')\n",
    "ax2.plot(train_accuracies_fam, label=\"Train Accuracy\")\n",
    "ax2.plot(val_accuracies_fam, label=\"Validation Accuracy\")\n",
    "ax2.legend()\n",
    "ax2.yaxis.set_major_formatter(FuncFormatter(lambda y, _: '{:.2%}'.format(y)))"
   ],
   "metadata": {
    "collapsed": false
   }
  },
  {
   "cell_type": "markdown",
   "source": [
    "Since the model's accuracy against the validation set is already higher than 99.9% and doesn't show signs of overfitting, we see little potential in optimizing it further and kept Karl relatively simple."
   ],
   "metadata": {
    "collapsed": false
   }
  },
  {
   "cell_type": "markdown",
   "source": [
    "# Evaluation"
   ],
   "metadata": {
    "collapsed": false
   }
  },
  {
   "cell_type": "code",
   "execution_count": null,
   "outputs": [],
   "source": [
    "# Some helper methods for prediction of graphs\n",
    "\n",
    "def check_for_cycle(graph: Graph, source: Part, sink: Part):\n",
    "    graph.add_undirected_edge(source, sink)\n",
    "    return graph.is_cyclic()\n",
    "\n",
    "def get_parts_with_fam_id(parts: List[Part], fam_id: int) -> List[Part]:\n",
    "    return [part for part in parts if part.get_ofid() == fam_id]\n",
    "\n",
    "\n",
    "def get_least_fam_id_neighbours_node(graph: Graph, nodes: List[Node], fam_id: int) -> Node:\n",
    "    balance_counts = [0] * len(nodes)\n",
    "    for i, node in enumerate(nodes):\n",
    "        edges = graph.get_edges().get(node)\n",
    "        if edges is not None:\n",
    "            balance_counts[i] = \\\n",
    "                sum(1 if n.get_ofid() == fam_id else 0 for n in edges)\n",
    "\n",
    "    balanced_node_idx: int = np.array(balance_counts).argmin()\n",
    "    node = nodes[balanced_node_idx]\n",
    "    return node"
   ],
   "metadata": {
    "collapsed": false
   }
  },
  {
   "cell_type": "code",
   "execution_count": null,
   "outputs": [],
   "source": [
    "cpu_model = model.cpu()\n",
    "\n",
    "class KantenKennerKarl(MyPredictionModel):\n",
    "\n",
    "    def __init__(self, model, fam_mapping):\n",
    "        self.model = model\n",
    "        self.fam_mapping = fam_mapping\n",
    "\n",
    "    def predict_graph(self, parts: Set[Part]) -> Graph:\n",
    "        raw_predictions = []\n",
    "        feature_tensors = create_features_family_id(parts, self.fam_mapping)\n",
    "        for feature_tensor in feature_tensors:\n",
    "            prediction = self.model(feature_tensor)\n",
    "            raw_predictions.append(prediction)\n",
    "        raw_predictions = torch.stack(raw_predictions)\n",
    "        return self.build_predicted_graph(parts, raw_predictions)\n",
    "\n",
    "    def build_predicted_graph(self, parts: Set[Part], pred_adj_matrix: Tensor) -> Graph:\n",
    "        parts_list = sorted(list(parts))\n",
    "        added_parts = set()\n",
    "        node_count = len(parts_list)\n",
    "        predicted_graph = Graph()\n",
    "        parts_at_nodes = dict()\n",
    "        for p in parts:\n",
    "            parts_at_nodes[p] = []\n",
    "\n",
    "        while predicted_graph.get_edge_count() // 2 < node_count - 1 and not torch.all(pred_adj_matrix < 1e-3):\n",
    "            max_signal_idx = (pred_adj_matrix == torch.max(pred_adj_matrix)).nonzero()\n",
    "            source_idx = max_signal_idx[0][0].item()\n",
    "            sink_dense_fam_id = max_signal_idx[0][1].item()\n",
    "\n",
    "            source_orig_fam_id = parts_list[source_idx].get_ofid()\n",
    "            sink_orig_fam_id = self.fam_mapping.to_orig(sink_dense_fam_id)\n",
    "\n",
    "            parts_with_source_fam_id = get_parts_with_fam_id(parts_list, source_orig_fam_id)\n",
    "            parts_with_sink_fam_id = get_parts_with_fam_id(parts_list, sink_orig_fam_id)\n",
    "\n",
    "            parts_with_source_fam_id = sorted(parts_with_source_fam_id, key=lambda x: parts_at_nodes[x].count(sink_orig_fam_id))\n",
    "            parts_with_sink_fam_id = sorted(parts_with_sink_fam_id, key=lambda x: parts_at_nodes[x].count(source_orig_fam_id))\n",
    "\n",
    "            for source in parts_with_source_fam_id:\n",
    "                    for sink in parts_with_sink_fam_id:\n",
    "                        if (source != sink and not (source in added_parts and sink in added_parts)) or not predicted_graph.is_reachable(source, sink):\n",
    "                            parts_at_nodes[source] += [sink_orig_fam_id]\n",
    "                            parts_at_nodes[sink] += [source_orig_fam_id]\n",
    "                            predicted_graph.add_undirected_edge(source, sink)\n",
    "                            added_parts.add(source)\n",
    "                            added_parts.add(sink)\n",
    "                            break\n",
    "                    else:\n",
    "                        continue\n",
    "                    break\n",
    "\n",
    "            pred_adj_matrix[source_idx][sink_dense_fam_id] = 0.0\n",
    "        return predicted_graph\n",
    "\n",
    "\n",
    "predictor = KantenKennerKarl(cpu_model, fam_mapper)\n",
    "with torch.no_grad():\n",
    "    st = time.time()\n",
    "    accuracy = evaluate_graphs(predictor, val_graphs)\n",
    "    print(f\"Mean edge accuracy: {accuracy}\")\n",
    "    et = time.time()\n",
    "    print(f\"Execution time: {(et - st):.2f}s\")"
   ],
   "metadata": {
    "collapsed": false
   }
  },
  {
   "cell_type": "markdown",
   "source": [
    "# Training with part IDs\n",
    "\n",
    "Here we perform training and evaluation of the model using only the part IDs. The model is structurally the same but has more parameters in order to handle the larger feature vectors."
   ],
   "metadata": {
    "collapsed": false
   }
  },
  {
   "cell_type": "code",
   "execution_count": null,
   "outputs": [],
   "source": [
    "model = Net(input_size=input_size_part, hidden_size=hidden_size_part, output_size=output_size_part).to(device)\n",
    "\n",
    "st = time.time()\n",
    "train_losses_part, val_losses_part, train_accuracies_part, val_accuracies_part = \\\n",
    "    train(model=model, lr=learning_rate, epochs=20, train_loader=train_loader_part_id, val_loader=val_loader_part_id)\n",
    "\n",
    "et = time.time()\n",
    "print(f\"Execution time: {(et - st):.2f} seconds\")"
   ],
   "metadata": {
    "collapsed": false
   }
  },
  {
   "cell_type": "markdown",
   "source": [
    "Plot the resulting graphs for training with part IDs"
   ],
   "metadata": {
    "collapsed": false
   }
  },
  {
   "cell_type": "code",
   "execution_count": null,
   "outputs": [],
   "source": [
    "fig, (ax1, ax2) = plt.subplots(nrows=1, ncols=2, figsize=(18, 4))\n",
    "\n",
    "ax1.set(xlabel='#Epochs', ylabel='Loss')\n",
    "fig.suptitle('Learning Progress')\n",
    "ax1.plot(train_losses_part, label=\"Training Loss\")\n",
    "ax1.plot(val_losses_part, label=\"Validation Loss\")\n",
    "ax1.legend()\n",
    "\n",
    "ax2.set(xlabel='#Epochs', ylabel='Accuracy')\n",
    "ax2.plot(train_accuracies_part, label=\"Train Accuracy\")\n",
    "ax2.plot(val_accuracies_part, label=\"Validation Accuracy\")\n",
    "ax2.legend()\n",
    "ax2.yaxis.set_major_formatter(FuncFormatter(lambda y, _: '{:.2%}'.format(y)))"
   ],
   "metadata": {
    "collapsed": false
   }
  },
  {
   "cell_type": "code",
   "execution_count": null,
   "outputs": [],
   "source": [
    "# Some helper methods for prediction of graphs with part IDs\n",
    "\n",
    "def get_parts_with_part_id(parts: List[Part], part_id: int) -> List[Part]:\n",
    "    return [part for part in parts if part.get_opid() == part_id]"
   ],
   "metadata": {
    "collapsed": false
   }
  },
  {
   "cell_type": "code",
   "execution_count": null,
   "outputs": [],
   "source": [
    "cpu_model = model.cpu()\n",
    "\n",
    "class GraphenGuruGuenter(MyPredictionModel):\n",
    "\n",
    "    def __init__(self, model, part_mapping):\n",
    "        self.model = model\n",
    "        self.part_mapping = part_mapping\n",
    "\n",
    "    def predict_graph(self, parts: Set[Part]) -> Graph:\n",
    "        raw_predictions = []\n",
    "        feature_tensors = create_features_part_id(parts, self.part_mapping)\n",
    "        for feature_tensor in feature_tensors:\n",
    "            prediction = self.model(feature_tensor)\n",
    "            raw_predictions.append(prediction)\n",
    "        raw_predictions = torch.stack(raw_predictions)\n",
    "        return self.build_predicted_graph(parts, raw_predictions)\n",
    "\n",
    "    def build_predicted_graph(self, parts: Set[Part], pred_adj_matrix: Tensor) -> Graph:\n",
    "        parts_list = sorted(list(parts))\n",
    "        added_parts = set()\n",
    "        node_count = len(parts_list)\n",
    "        predicted_graph = Graph()\n",
    "        parts_at_nodes = dict()\n",
    "        for p in parts:\n",
    "            parts_at_nodes[p] = []\n",
    "\n",
    "        while predicted_graph.get_edge_count() // 2 < node_count - 1 and not torch.all(pred_adj_matrix == 0):\n",
    "\n",
    "            max_signal_idx = (pred_adj_matrix == torch.max(pred_adj_matrix)).nonzero()\n",
    "            source_idx = max_signal_idx[0][0].item()\n",
    "            sink_dense_part_id = max_signal_idx[0][1].item()\n",
    "\n",
    "            source_orig_part_id = parts_list[source_idx].get_opid()\n",
    "            sink_orig_part_id = self.part_mapping.to_orig(sink_dense_part_id)\n",
    "\n",
    "            parts_with_source_part_id = get_parts_with_part_id(parts_list, source_orig_part_id)\n",
    "            parts_with_sink_part_id = get_parts_with_part_id(parts_list, sink_orig_part_id)\n",
    "\n",
    "            parts_with_source_part_id = sorted(parts_with_source_part_id, key=lambda x: parts_at_nodes[x].count(sink_orig_part_id))\n",
    "            parts_with_sink_part_id = sorted(parts_with_sink_part_id, key=lambda x: parts_at_nodes[x].count(source_orig_part_id))\n",
    "\n",
    "            for source in parts_with_source_part_id:\n",
    "                for sink in parts_with_sink_part_id:\n",
    "                    if source != sink and not (source in added_parts and sink in added_parts) or not predicted_graph.is_reachable(source,sink):\n",
    "                        parts_at_nodes[source] += [sink_orig_part_id]\n",
    "                        parts_at_nodes[sink] += [source_orig_part_id]\n",
    "                        predicted_graph.add_undirected_edge(source, sink)\n",
    "                        added_parts.add(source)\n",
    "                        added_parts.add(sink)\n",
    "                        break\n",
    "                else:\n",
    "                    continue\n",
    "                break\n",
    "\n",
    "            pred_adj_matrix[source_idx][sink_dense_part_id] = 0.0\n",
    "        return predicted_graph\n",
    "\n",
    "\n",
    "predictor = GraphenGuruGuenter(cpu_model, part_mapper)\n",
    "\n",
    "with torch.no_grad():\n",
    "    st = time.time()\n",
    "    accuracy = evaluate_graphs(predictor, val_graphs)\n",
    "    print(f\"Mean edge accuracy: {accuracy}\")\n",
    "    et = time.time()\n",
    "    print(f\"Execution time: {(et - st):.2f}s\")"
   ],
   "metadata": {
    "collapsed": false
   }
  },
  {
   "cell_type": "markdown",
   "source": [
    "# Family IDs or part IDs?\n",
    "\n",
    "As can be seen above, the model using only the part IDs has approximately the same performance as the model using only the family IDs. Because training and inference with the latter is much faster we stick to the approach with the family IDs from here on."
   ],
   "metadata": {
    "collapsed": false
   }
  },
  {
   "cell_type": "markdown",
   "source": [
    "# Hyperparameter tuning\n",
    "\n",
    "Because our model is very fast to train, we can try a lot of different hyperparameter settings. As described in the lecture we use a grid search approach here for finding the best hyperparameter setting. We will tune hidden layer size, learning rate, epochs. We intentionally skip the drawing of the loss and accuracy charts to no clutter the output due to the high number of combinations."
   ],
   "metadata": {
    "collapsed": false
   }
  },
  {
   "cell_type": "code",
   "execution_count": null,
   "outputs": [],
   "source": [
    "import itertools\n",
    "from prettytable import PrettyTable\n",
    "\n",
    "num_ids = len(fam_mapper)\n",
    "hidden_layer_sizes = [1 * num_ids, 2 * num_ids]\n",
    "learning_rates = [0.001, 0.01]\n",
    "epochs = [10, 20, 50]\n",
    "permutations = list(itertools.product(hidden_layer_sizes, learning_rates, epochs))\n",
    "\n",
    "results = []\n",
    "best_predictor = None\n",
    "best_accuracy = 0.\n",
    "with tqdm(permutations) as permutation_progress:\n",
    "    for layer_size, lr, epochs in permutation_progress:\n",
    "        model = Net(input_size=input_size_fam, hidden_size=layer_size, output_size=output_size_fam).to(device)\n",
    "        train(model=model, lr=lr, epochs=epochs, train_loader=train_loader_fam_id, val_loader=val_loader_fam_id, show_progress=False)\n",
    "\n",
    "        cpu_model = model.cpu()\n",
    "        predictor = KantenKennerKarl(cpu_model, fam_mapper)\n",
    "\n",
    "        with torch.no_grad():\n",
    "            accuracy = evaluate_graphs(predictor, val_graphs, show_progress=False)\n",
    "            if accuracy > best_accuracy:\n",
    "                best_accuracy = accuracy\n",
    "                best_predictor = predictor\n",
    "            results.append((layer_size, lr, epochs, accuracy))\n",
    "\n",
    "\n",
    "results =  sorted(results, key=lambda x: x[3], reverse=True)\n",
    "t = PrettyTable(['Hidden Layer Size', 'Learning Rate', 'Epochs', 'Accuracy'])\n",
    "for row in results:\n",
    "    t.add_row(row)\n",
    "\n",
    "print(t)"
   ],
   "metadata": {
    "collapsed": false
   }
  },
  {
   "cell_type": "markdown",
   "source": [
    "Save prediction model"
   ],
   "metadata": {
    "collapsed": false
   }
  },
  {
   "cell_type": "code",
   "execution_count": null,
   "outputs": [],
   "source": [
    "try:\n",
    "    with open('data/karl.dat', 'xb') as file:\n",
    "        pickle.dump(predictor, file=file)\n",
    "except FileExistsError:\n",
    "    print(\"Accidental overwrite protection: File already exists\")"
   ],
   "metadata": {
    "collapsed": false
   }
  },
  {
   "cell_type": "code",
   "execution_count": null,
   "outputs": [],
   "source": [
    "try:\n",
    "    with open('data/karl.dat', 'rb') as file:\n",
    "        test_predictor = pickle.load(file)\n",
    "    with torch.no_grad():\n",
    "        st = time.time()\n",
    "        accuracy = evaluate_graphs(test_predictor, test_graphs)\n",
    "        print(f\"Mean edge accuracy: {accuracy}\")\n",
    "        et = time.time()\n",
    "        print(f\"Execution time: {(et - st):.2f}s\")\n",
    "except FileNotFoundError:\n",
    "    print(\"Model file not found\")"
   ],
   "metadata": {
    "collapsed": false
   }
  },
  {
   "cell_type": "code",
   "execution_count": null,
   "outputs": [],
   "source": [],
   "metadata": {
    "collapsed": false
   }
  }
 ],
 "metadata": {
  "kernelspec": {
   "display_name": "Python 3",
   "language": "python",
   "name": "python3"
  },
  "language_info": {
   "codemirror_mode": {
    "name": "ipython",
    "version": 2
   },
   "file_extension": ".py",
   "mimetype": "text/x-python",
   "name": "python",
   "nbconvert_exporter": "python",
   "pygments_lexer": "ipython2",
   "version": "2.7.6"
  }
 },
 "nbformat": 4,
 "nbformat_minor": 0
}
