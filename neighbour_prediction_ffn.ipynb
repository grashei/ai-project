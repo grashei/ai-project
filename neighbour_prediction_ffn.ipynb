{
 "cells": [
  {
   "cell_type": "code",
   "execution_count": 1,
   "outputs": [],
   "source": [
    "import pickle\n",
    "import random\n",
    "import time\n",
    "from math import ceil\n",
    "from typing import List, Dict, Iterable\n",
    "from typing import Set\n",
    "from typing import Tuple\n",
    "\n",
    "import networkx as nx\n",
    "import numpy as np\n",
    "import torch\n",
    "from matplotlib import pyplot as plt\n",
    "from matplotlib.ticker import FuncFormatter\n",
    "from torch import Tensor\n",
    "from torch import nn\n",
    "from torch.utils.data import Dataset, DataLoader\n",
    "from tqdm import tqdm\n",
    "\n",
    "from evaluation import MyPredictionModel, evaluate_graphs\n",
    "from graph import Graph\n",
    "from mapping import FamilyIdMapper, PartIdMapper\n",
    "from node import Node\n",
    "from part import Part\n",
    "from utils import load_graphs\n",
    "\n",
    "device = torch.device(\"cuda\" if torch.cuda.is_available() else \"mps\" if torch.has_mps else \"cpu\")"
   ],
   "metadata": {
    "collapsed": false
   }
  },
  {
   "cell_type": "markdown",
   "source": [
    "Load graphs dataset, shuffle it and split it into training, validation and test set."
   ],
   "metadata": {
    "collapsed": false
   }
  },
  {
   "cell_type": "code",
   "execution_count": 2,
   "outputs": [],
   "source": [
    "graphs = load_graphs()\n",
    "seed = 42\n",
    "random.Random(seed).shuffle(graphs)\n",
    "np.random.seed(seed)\n",
    "torch.manual_seed(seed)\n",
    "\n",
    "training_set_size_ratio = 0.8\n",
    "validation_set_size_ratio = 0.1\n",
    "test_size_ratio = 0.1\n",
    "\n",
    "assert training_set_size_ratio + test_size_ratio + validation_set_size_ratio == 1"
   ],
   "metadata": {
    "collapsed": false
   }
  },
  {
   "cell_type": "markdown",
   "source": [
    "# Dense Family ID Mapping\n",
    "All parts have a family that lies between 0 and 95 (inclusive). However, some family IDs, like 16, don't appear in the dataset. We create a dense family ID mapping and use dense family IDs to shorten our model's feature vector. For example, family ID 17 is converted to dense Family ID 16 due to the gap Family ID 16 left."
   ],
   "metadata": {
    "collapsed": false
   }
  },
  {
   "cell_type": "code",
   "execution_count": 3,
   "outputs": [],
   "source": [
    "fam_mapper = FamilyIdMapper(graphs)\n",
    "\n",
    "\n",
    "def get_ofid(self):\n",
    "    \"\"\"\n",
    "    :return: the original family if of the node's part\n",
    "    \"\"\"\n",
    "    return int(self.get_family_id())\n",
    "\n",
    "\n",
    "def get_dfid(self):\n",
    "    \"\"\"\n",
    "    :return: the dense family if of the node's part\n",
    "    \"\"\"\n",
    "    return fam_mapper.to_dense(self.get_ofid())\n",
    "\n",
    "\n",
    "# Add extension functions to nodes to make code easier to read\n",
    "Part.get_ofid = get_ofid\n",
    "Part.get_dfid = get_dfid"
   ],
   "metadata": {
    "collapsed": false
   }
  },
  {
   "cell_type": "markdown",
   "source": [
    "# Dense Part ID Mapping\n",
    "\n",
    "We compare the predictions of the model using only the family ID against using only the part ID. Hence we setup the part ID mapping analogously."
   ],
   "metadata": {
    "collapsed": false
   }
  },
  {
   "cell_type": "code",
   "execution_count": 4,
   "outputs": [],
   "source": [
    "part_mapper = PartIdMapper(graphs)\n",
    "\n",
    "\n",
    "def get_opid(self):\n",
    "    \"\"\"\n",
    "    :return: the original part id of the node's part\n",
    "    \"\"\"\n",
    "    return int(self.get_part_id())\n",
    "\n",
    "\n",
    "def get_dpid(self):\n",
    "    \"\"\"\n",
    "    :return: the dense part id of the node's part\n",
    "    \"\"\"\n",
    "    return part_mapper.to_dense(self.get_opid())\n",
    "\n",
    "\n",
    "# Add extension functions to nodes to make code easier to read\n",
    "Part.get_opid = get_opid\n",
    "Part.get_dpid = get_dpid"
   ],
   "metadata": {
    "collapsed": false
   }
  },
  {
   "cell_type": "markdown",
   "source": [
    "# Model Hyperparameters\n",
    "\n",
    "For initially comparing the two models we set the hyperparameters as following. We do hyperparameter optimization later as we determined the better alternative between using only family IDs or only part IDs as features"
   ],
   "metadata": {
    "collapsed": false
   }
  },
  {
   "cell_type": "code",
   "execution_count": 5,
   "outputs": [],
   "source": [
    "batch_size = 1024\n",
    "\n",
    "input_size_fam = 2 * len(fam_mapper) + 1  # 185\n",
    "hidden_size_fam = 3 * input_size_fam  # 555\n",
    "output_size_fam = len(fam_mapper)  # 92\n",
    "\n",
    "input_size_part = 2 * len(part_mapper)  # 2162\n",
    "hidden_size_part = 2 * input_size_part  # 4324\n",
    "output_size_part = len(part_mapper)  # 1081\n",
    "\n",
    "learning_rate = 0.003\n",
    "num_epochs = 20"
   ],
   "metadata": {
    "collapsed": false
   }
  },
  {
   "cell_type": "markdown",
   "source": [
    "# Our Model\n",
    "\n",
    "It is a simple Feedforward neural network consisting of just one hidden layer. This makes it extremely efficient. The model does not directly predict the edges for a set of parts. Instead, it predicts all the neighbors of one node of a Graph."
   ],
   "metadata": {
    "collapsed": false
   }
  },
  {
   "cell_type": "code",
   "execution_count": 6,
   "outputs": [],
   "source": [
    "class Net(nn.Module):\n",
    "    def __init__(self, input_size, hidden_size, output_size):\n",
    "        super(Net, self).__init__()\n",
    "        self.fc1 = nn.Linear(input_size, hidden_size)\n",
    "        self.fc2 = nn.Linear(hidden_size, output_size)\n",
    "\n",
    "    def forward(self, x):\n",
    "        x = torch.relu(self.fc1(x))\n",
    "        # x = torch.relu(self.fc2(x))\n",
    "        x = torch.sigmoid(self.fc2(x))\n",
    "        return x"
   ],
   "metadata": {
    "collapsed": false
   }
  },
  {
   "cell_type": "markdown",
   "source": [
    "## Model Features\n",
    "\n",
    "The model takes a 1D tensor that can be divided into two parts `all_nodes_tensor` (first half) and `given_node_tensor` (second half):\n",
    "- `all_nodes_tensor`: one-hot encoded dense family IDs for each part that we should use to build the graph. E.g., (1,0,3,0,...,0) means that the graph consists of one part with dense family ID 0 and three parts with dense family ID 2.\n",
    "- `given_node_tensor`: one-hot encoded dense family ID for which the model should predict its neighbors. E.g., (0,0,1,0,...,0) means that the model should predict the neighbors of all parts with dense family id 2.\n",
    "\n",
    "We do the same analogously for the approach using only the part IDs"
   ],
   "metadata": {
    "collapsed": false
   }
  },
  {
   "cell_type": "code",
   "execution_count": 7,
   "outputs": [],
   "source": [
    "def create_features_family_id_for_graph(graph: Graph, fam_mapping: FamilyIdMapper) -> List[Tensor]:\n",
    "    parts_sorted = sorted(graph.get_parts())\n",
    "    all_nodes_tensor = create_all_nodes_tensor(parts_sorted, fam_mapping)\n",
    "    feature_tensors = []\n",
    "\n",
    "    root_part = get_graph_center_node(graph).get_part()\n",
    "    for i, part in enumerate(parts_sorted):\n",
    "        feature_tensor = create_features_family_id(all_nodes_tensor, part, part == root_part, fam_mapping)\n",
    "        feature_tensors.append(feature_tensor)\n",
    "\n",
    "    return feature_tensors\n",
    "\n",
    "\n",
    "def create_all_nodes_tensor(parts: Iterable[Part], fam_mapping: FamilyIdMapper) -> Tensor:\n",
    "    num_different_family_ids = len(fam_mapping)\n",
    "    all_nodes_tensor = torch.zeros(num_different_family_ids, dtype=torch.float)\n",
    "    for part in parts:\n",
    "        dense_family_id = part.get_dfid()\n",
    "        all_nodes_tensor[dense_family_id] += 1.0\n",
    "    return all_nodes_tensor\n",
    "\n",
    "\n",
    "def create_features_family_id_for_part(\n",
    "        parts: Iterable[Part],\n",
    "        p: Part,\n",
    "        is_root_node: bool,\n",
    "        fam_mapping: FamilyIdMapper\n",
    ") -> Tensor:\n",
    "    all_nodes_tensor = create_all_nodes_tensor(parts, fam_mapping)\n",
    "    return create_features_family_id(all_nodes_tensor, p, is_root_node, fam_mapping)\n",
    "\n",
    "\n",
    "def create_features_family_id(\n",
    "        all_nodes_tensor: Tensor,\n",
    "        p: Part,\n",
    "        is_root_node: bool,\n",
    "        fam_mapping: FamilyIdMapper\n",
    ") -> Tensor:\n",
    "    num_different_family_ids = len(fam_mapping)\n",
    "\n",
    "    given_node_tensor = torch.zeros(num_different_family_ids, dtype=torch.float)\n",
    "    given_node_tensor[p.get_dfid()] = 1.0\n",
    "\n",
    "    child_node_tensor = torch.zeros(1, dtype=torch.float)\n",
    "    if not is_root_node:\n",
    "        child_node_tensor[0] = 1.0\n",
    "\n",
    "    return torch.cat((all_nodes_tensor, child_node_tensor, given_node_tensor), dim=-1)\n",
    "\n",
    "\n",
    "def create_features_part_id(parts: Set[Part], part_mapper: PartIdMapper) -> List[Tensor]:\n",
    "    parts_sorted = list(parts)\n",
    "    parts_sorted.sort()\n",
    "\n",
    "    num_different_part_ids = len(part_mapper)\n",
    "\n",
    "    all_nodes_tensor = torch.zeros(num_different_part_ids, dtype=torch.float)\n",
    "\n",
    "    for part in parts_sorted:\n",
    "        dense_part_id = part.get_dpid()\n",
    "        all_nodes_tensor[dense_part_id] += 1.0\n",
    "\n",
    "    feature_tensors = []\n",
    "\n",
    "    for part in parts_sorted:\n",
    "        dense_part_id = part.get_dpid()\n",
    "        given_node_tensor = torch.zeros(num_different_part_ids, dtype=torch.float)\n",
    "        given_node_tensor[dense_part_id] = 1\n",
    "        feature_tensor = torch.cat((all_nodes_tensor, given_node_tensor), dim=-1)\n",
    "        feature_tensors.append(feature_tensor)\n",
    "\n",
    "    return feature_tensors"
   ],
   "metadata": {
    "collapsed": false
   }
  },
  {
   "cell_type": "markdown",
   "source": [
    "## Model Labels\n",
    "\n",
    "The model outputs a 1D tensor that represents the neighbors of a given node. E.g., (1,0,1,0,...,0) means that the given node (only) has two neighbors: one with dense family ID 0 and one with dense family ID 2. Analogously for the part IDs"
   ],
   "metadata": {
    "collapsed": false
   }
  },
  {
   "cell_type": "code",
   "execution_count": 8,
   "outputs": [],
   "source": [
    "def get_graph_center_node(graph: Graph) -> Node:\n",
    "    center_nodes = nx.center(graph.to_nx())\n",
    "    if len(center_nodes) > 1:\n",
    "        edges = graph.get_edges()\n",
    "        return max(center_nodes, key=lambda n: len(edges[n]))\n",
    "    else:\n",
    "        return center_nodes[0]\n",
    "\n",
    "\n",
    "def create_features_and_labels_center(graph: Graph, fam_mapping: FamilyIdMapper) -> Tuple[List[Tensor], List[Tensor]]:\n",
    "    num_different_family_ids = len(fam_mapping)\n",
    "\n",
    "    center_node = get_graph_center_node(graph)\n",
    "    label_tensor = torch.zeros(num_different_family_ids, dtype=torch.float)\n",
    "    label_tensor[center_node.get_part().get_dfid()] = 1.0\n",
    "\n",
    "    label_res = list()\n",
    "    label_res.append(label_tensor)\n",
    "\n",
    "    return create_features_center(graph.get_parts(), fam_mapping), label_res\n",
    "\n",
    "\n",
    "def create_features_center(parts: Set[Part], fam_mapping: FamilyIdMapper) -> List[Tensor]:\n",
    "    num_different_family_ids = len(fam_mapping)\n",
    "\n",
    "    feature_tensor = torch.zeros(num_different_family_ids, dtype=torch.float)\n",
    "    for part in sorted(parts):\n",
    "        dense_family_id = part.get_dfid()\n",
    "        feature_tensor[dense_family_id] += 1.0\n",
    "    res = list()\n",
    "    res.append(feature_tensor)\n",
    "    return res\n",
    "\n",
    "\n",
    "def create_parent_node_map(graph: Graph) -> Dict[Node, Node]:\n",
    "    nodes = sorted(graph.get_nodes())\n",
    "    edges = graph.get_edges()\n",
    "    root_node = get_graph_center_node(graph)\n",
    "\n",
    "    already_set_nodes = set()\n",
    "    already_set_nodes.add(root_node)\n",
    "    parent_node_map = {root_node: None}\n",
    "    parent_nodes = set()\n",
    "    parent_nodes.add(root_node)\n",
    "    while len(already_set_nodes) != len(nodes):\n",
    "        next_parent_nodes = set()\n",
    "        for parent_node in parent_nodes:\n",
    "            for child_node in edges[parent_node]:\n",
    "                if child_node not in already_set_nodes:\n",
    "                    parent_node_map[child_node] = parent_node\n",
    "                    already_set_nodes.add(child_node)\n",
    "                    next_parent_nodes.add(child_node)\n",
    "        parent_nodes = next_parent_nodes\n",
    "    return parent_node_map\n",
    "\n",
    "\n",
    "#TODO: remove duplicate\n",
    "def create_parent_part_map(graph: Graph) -> Dict[Part, Part]:\n",
    "    nodes = sorted(graph.get_nodes())\n",
    "    edges = graph.get_edges()\n",
    "    root_node = get_graph_center_node(graph)\n",
    "\n",
    "    already_set_nodes = set()\n",
    "    already_set_nodes.add(root_node)\n",
    "    parent_node_map = {root_node: None}\n",
    "    parent_nodes = set()\n",
    "    parent_nodes.add(root_node)\n",
    "    while len(already_set_nodes) != len(nodes):\n",
    "        next_parent_nodes = set()\n",
    "        for parent_node in parent_nodes:\n",
    "            for child_node in edges[parent_node]:\n",
    "                if child_node not in already_set_nodes:\n",
    "                    parent_node_map[child_node.get_part()] = parent_node.get_part()\n",
    "                    already_set_nodes.add(child_node)\n",
    "                    next_parent_nodes.add(child_node)\n",
    "        parent_nodes = next_parent_nodes\n",
    "    return parent_node_map\n",
    "\n",
    "\n",
    "def create_labels_family_id(graph: Graph, fam_mapping: FamilyIdMapper) -> List[Tensor]:\n",
    "    \"\"\"\n",
    "    Creates the ground truth tensors for a given graph in one hot encoded form by using the family ids\n",
    "    :param graph: The graph for which the tensors should be created\n",
    "    :param fam_mapping: The mapper for the family ids\n",
    "    :return: The list containing all ground truth tensors for the graph\n",
    "    \"\"\"\n",
    "    label_tensors = []\n",
    "\n",
    "    num_different_family_ids = len(fam_mapping)\n",
    "    nodes = sorted(graph.get_nodes())\n",
    "    edges = graph.get_edges()\n",
    "\n",
    "    parent_node_map = create_parent_node_map(graph)\n",
    "\n",
    "    for parent in nodes:\n",
    "        target_tensor = torch.zeros(num_different_family_ids, dtype=torch.float)\n",
    "        # parent_node = parent_node_map[node]\n",
    "\n",
    "        # if parent_node is not None:\n",
    "        #     parent_node_dense_family_id = parent_node.get_part().get_dfid()\n",
    "        #     target_tensor[parent_node_dense_family_id] = 1\n",
    "        for child in edges[parent]:\n",
    "            if parent_node_map[child] == parent:\n",
    "                target_tensor[child.get_part().get_dfid()] = 1\n",
    "            # else:\n",
    "            #     neighbour_node_dense_family_id = neighbour_node.get_part().get_dfid()\n",
    "            #     target_tensor[neighbour_node_dense_family_id] -= 1\n",
    "        label_tensors.append(target_tensor)\n",
    "    return label_tensors\n",
    "\n",
    "\n",
    "def create_labels_part_id(graph: Graph, part_mapping: PartIdMapper) -> List[Tensor]:\n",
    "    \"\"\"\n",
    "    Creates the ground truth tensors for a given graph in one hot encoded form by using the part ids\n",
    "    :param graph: The graph for which the tensors should be created\n",
    "    :param part_mapping: The mapper for the part ids\n",
    "    :return: The list containing all ground truth tensors for the graph\n",
    "    \"\"\"\n",
    "    label_tensors = []\n",
    "\n",
    "    num_different_part_ids = len(part_mapping)\n",
    "    edges = graph.get_edges()\n",
    "\n",
    "    for node in sorted(graph.get_nodes()):\n",
    "        target_tensor = torch.zeros(num_different_part_ids, dtype=torch.float)\n",
    "        for neighbour_node in edges[node]:\n",
    "            neighbour_node_dense_part_id = neighbour_node.get_part().get_dpid()\n",
    "            target_tensor[neighbour_node_dense_part_id] = 1\n",
    "        label_tensors.append(target_tensor)\n",
    "    return label_tensors"
   ],
   "metadata": {
    "collapsed": false
   }
  },
  {
   "cell_type": "markdown",
   "source": [
    "## Train, validation and test split\n",
    "\n",
    "We split the dataset into train, val and test sets. The hyperparameters are only tuned on the validation dataset."
   ],
   "metadata": {
    "collapsed": false
   }
  },
  {
   "cell_type": "code",
   "execution_count": 9,
   "outputs": [],
   "source": [
    "train_upper = ceil(training_set_size_ratio * len(graphs))\n",
    "val_upper = ceil((training_set_size_ratio + validation_set_size_ratio) * len(graphs))\n",
    "\n",
    "train_graphs = graphs[0:train_upper]\n",
    "val_graphs = graphs[train_upper:val_upper]\n",
    "test_graphs = graphs[val_upper:len(graphs) + 1]"
   ],
   "metadata": {
    "collapsed": false
   }
  },
  {
   "cell_type": "markdown",
   "source": [
    "# Dataset & Dataloader\n",
    "\n",
    "In order to simplify training with PyTorch we create a dataset containing the input features and target labels based on the family id. During training we shuffle the dataset to prevent overfitting."
   ],
   "metadata": {
    "collapsed": false
   }
  },
  {
   "cell_type": "code",
   "execution_count": 10,
   "outputs": [],
   "source": [
    "def create_features_and_labels_family_id(\n",
    "        graph: Graph,\n",
    "        fam_mapping: FamilyIdMapper\n",
    ") -> Tuple[List[Tensor], List[Tensor]]:\n",
    "    feature_tensors = create_features_family_id_for_graph(graph, fam_mapping)\n",
    "    label_tensors = create_labels_family_id(graph, fam_mapping)\n",
    "    return feature_tensors, label_tensors\n",
    "\n",
    "\n",
    "class GraphDataset(Dataset):\n",
    "    def __init__(self, graphs: List[Graph], create_features_and_labels):\n",
    "        x_list = []\n",
    "        y_list = []\n",
    "        for graph in graphs:\n",
    "            x_per_graph, y_per_graph = create_features_and_labels(graph)\n",
    "            x_list += x_per_graph\n",
    "            y_list += y_per_graph\n",
    "        self.x_tensor = torch.stack(x_list)\n",
    "        self.y_tensor = torch.stack(y_list)\n",
    "        self.n_samples = self.y_tensor.shape[0]\n",
    "\n",
    "    def __getitem__(self, index):\n",
    "        return self.x_tensor[index], self.y_tensor[index]\n",
    "\n",
    "    def __len__(self):\n",
    "        return self.n_samples\n",
    "\n",
    "\n",
    "train_loader_fam_id = DataLoader(\n",
    "    dataset=GraphDataset(train_graphs, lambda g: create_features_and_labels_family_id(g, fam_mapper)),\n",
    "    batch_size=batch_size,\n",
    "    shuffle=True,\n",
    ")\n",
    "val_loader_fam_id = DataLoader(\n",
    "    dataset=GraphDataset(val_graphs, lambda g: create_features_and_labels_family_id(g, fam_mapper)),\n",
    "    batch_size=batch_size,\n",
    "    shuffle=False,\n",
    ")"
   ],
   "metadata": {
    "collapsed": false
   }
  },
  {
   "cell_type": "markdown",
   "source": [
    "# Training with family IDs\n",
    "\n",
    "First, our model is trained using only the family IDs. The time to train the model is measured and printed afterwards."
   ],
   "metadata": {
    "collapsed": false
   }
  },
  {
   "cell_type": "markdown",
   "source": [
    "Do the same for our features using only the part id"
   ],
   "metadata": {
    "collapsed": false
   }
  },
  {
   "cell_type": "code",
   "execution_count": 11,
   "outputs": [],
   "source": [
    "def create_features_and_labels_part_id(graph: Graph, part_mapping: PartIdMapper) -> Tuple[List[Tensor], List[Tensor]]:\n",
    "    feature_tensors = create_features_part_id(graph.get_parts(), part_mapping)\n",
    "    label_tensors = create_labels_part_id(graph, part_mapping)\n",
    "    return feature_tensors, label_tensors\n",
    "\n",
    "\n",
    "train_loader_part_id = DataLoader(\n",
    "    dataset=GraphDataset(train_graphs, lambda g: create_features_and_labels_part_id(g, part_mapper)),\n",
    "    batch_size=batch_size,\n",
    "    shuffle=True,\n",
    ")\n",
    "val_loader_part_id = DataLoader(\n",
    "    dataset=GraphDataset(val_graphs, lambda g: create_features_and_labels_part_id(g, part_mapper)),\n",
    "    batch_size=batch_size,\n",
    "    shuffle=False,\n",
    ")"
   ],
   "metadata": {
    "collapsed": false
   }
  },
  {
   "cell_type": "code",
   "execution_count": 12,
   "outputs": [],
   "source": [
    "train_loader_center = DataLoader(\n",
    "    dataset=GraphDataset(train_graphs, lambda g: create_features_and_labels_center(g, fam_mapper)),\n",
    "    batch_size=batch_size,\n",
    "    shuffle=True,\n",
    ")\n",
    "val_loader_center = DataLoader(\n",
    "    dataset=GraphDataset(val_graphs, lambda g: create_features_and_labels_center(g, fam_mapper)),\n",
    "    batch_size=batch_size,\n",
    "    shuffle=False,\n",
    ")"
   ],
   "metadata": {
    "collapsed": false
   }
  },
  {
   "cell_type": "markdown",
   "source": [
    "# Training routine\n",
    "\n",
    "Our training routing trains the given model with the given learning rate for the number of specified epochs. After each epoch it validates the current state of the model on the validation dataset. The stats for the loss and accuracy are tracked and is used for hyperparameter optimization and recognizing over- or underfitting of the model."
   ],
   "metadata": {
    "collapsed": false
   }
  },
  {
   "cell_type": "code",
   "execution_count": 13,
   "outputs": [],
   "source": [
    "def train(model, lr, epochs, train_loader, val_loader, show_progress=True):\n",
    "    optimizer = torch.optim.Adam(model.parameters(), lr=lr)\n",
    "    loss_fn = nn.BCELoss()\n",
    "    # loss_fn = nn.MSELoss()\n",
    "    train_losses = []\n",
    "    val_losses = []\n",
    "\n",
    "    train_accuracies = []\n",
    "    val_accuracies = []\n",
    "\n",
    "    for _ in tqdm(range(epochs), ascii=\"░▒█\", disable=not show_progress):\n",
    "        train_losses_per_epoch = 0.0\n",
    "        train_accuracy_per_epoch = 0.0\n",
    "        for i, (x_train, y_train) in enumerate(train_loader):\n",
    "            x_train = x_train.to(device)\n",
    "            y_train = y_train.to(device)\n",
    "            y_pred = model(x_train)\n",
    "            loss = loss_fn(y_pred, y_train)\n",
    "            train_losses_per_epoch += loss.cpu().detach().numpy()\n",
    "            train_accuracy = torch.sum(y_train == y_pred.round()) / torch.numel(y_train)\n",
    "            train_accuracy_per_epoch += train_accuracy.cpu().detach().numpy()\n",
    "            optimizer.zero_grad()\n",
    "            loss.backward()\n",
    "            optimizer.step()\n",
    "\n",
    "        train_losses.append(train_losses_per_epoch / len(train_loader))\n",
    "        train_accuracies.append(train_accuracy_per_epoch / len(train_loader))\n",
    "\n",
    "        with torch.no_grad():\n",
    "            val_losses_per_epoch = 0.0\n",
    "            val_accuracies_per_epoch = 0.0\n",
    "            for i, (x_val, y_val) in enumerate(val_loader):\n",
    "                x_val = x_val.to(device)\n",
    "                y_val = y_val.to(device)\n",
    "                y_pred = model(x_val)\n",
    "                loss = loss_fn(y_pred, y_val)\n",
    "                val_accuracy = torch.sum(y_val == y_pred.round()) / torch.numel(y_val)\n",
    "                val_losses_per_epoch += loss.cpu()\n",
    "                val_accuracies_per_epoch += val_accuracy.cpu()\n",
    "            val_losses.append(val_losses_per_epoch / len(val_loader))\n",
    "            val_accuracies.append(val_accuracies_per_epoch / len(val_loader))\n",
    "\n",
    "    return train_losses, val_losses, train_accuracies, val_accuracies"
   ],
   "metadata": {
    "collapsed": false
   }
  },
  {
   "cell_type": "code",
   "execution_count": 14,
   "outputs": [
    {
     "name": "stderr",
     "output_type": "stream",
     "text": [
      "100%|██████████| 20/20 [00:13<00:00,  1.47it/s]"
     ]
    },
    {
     "name": "stdout",
     "output_type": "stream",
     "text": [
      "Execution time: 13.57 seconds\n"
     ]
    },
    {
     "name": "stderr",
     "output_type": "stream",
     "text": [
      "\n"
     ]
    }
   ],
   "source": [
    "family_id_model = Net(input_size=input_size_fam, hidden_size=hidden_size_fam, output_size=output_size_fam).to(device)\n",
    "\n",
    "st = time.time()\n",
    "train_losses_fam, val_losses_fam, train_accuracies_fam, val_accuracies_fam = \\\n",
    "    train(model=family_id_model, lr=learning_rate, epochs=num_epochs, train_loader=train_loader_fam_id,\n",
    "          val_loader=val_loader_fam_id)\n",
    "\n",
    "et = time.time()\n",
    "print(f\"Execution time: {(et - st):.2f} seconds\")"
   ],
   "metadata": {
    "collapsed": false
   }
  },
  {
   "cell_type": "markdown",
   "source": [
    "Plot the resulting graphs of the training with family IDs"
   ],
   "metadata": {
    "collapsed": false
   }
  },
  {
   "cell_type": "code",
   "execution_count": 15,
   "outputs": [
    {
     "data": {
      "text/plain": "<Figure size 1800x400 with 2 Axes>",
      "image/png": "[encoded data removed]"
     },
     "metadata": {},
     "output_type": "display_data"
    }
   ],
   "source": [
    "fig, (ax1, ax2) = plt.subplots(nrows=1, ncols=2, figsize=(18, 4))\n",
    "\n",
    "ax1.set(xlabel='#Epochs', ylabel='Loss')\n",
    "fig.suptitle('Learning Progress')\n",
    "ax1.plot(train_losses_fam, label=\"Training Loss\")\n",
    "ax1.plot(val_losses_fam, label=\"Validation Loss\")\n",
    "ax1.legend()\n",
    "\n",
    "ax2.set(xlabel='#Epochs', ylabel='Accuracy')\n",
    "ax2.plot(train_accuracies_fam, label=\"Train Accuracy\")\n",
    "ax2.plot(val_accuracies_fam, label=\"Validation Accuracy\")\n",
    "ax2.legend()\n",
    "ax2.yaxis.set_major_formatter(FuncFormatter(lambda y, _: '{:.2%}'.format(y)))"
   ],
   "metadata": {
    "collapsed": false
   }
  },
  {
   "cell_type": "markdown",
   "source": [
    "Train Center Model"
   ],
   "metadata": {
    "collapsed": false
   }
  },
  {
   "cell_type": "code",
   "execution_count": 16,
   "outputs": [
    {
     "name": "stderr",
     "output_type": "stream",
     "text": [
      "100%|██████████| 50/50 [00:04<00:00, 11.99it/s]\n"
     ]
    }
   ],
   "source": [
    "input_size_center = len(fam_mapper)  # 92\n",
    "hidden_size_center = 16 * input_size_center  # 184\n",
    "output_size_center = len(fam_mapper)  # 92\n",
    "\n",
    "model_center = Net(input_size=input_size_center, hidden_size=hidden_size_center, output_size=output_size_center).to(\n",
    "    device)\n",
    "\n",
    "st = time.time()\n",
    "train_losses_fam, val_losses_fam, train_accuracies_fam, val_accuracies_fam = \\\n",
    "    train(model=model_center, lr=learning_rate, epochs=50, train_loader=train_loader_center,  #todo change epochs\n",
    "          val_loader=val_loader_center)\n",
    "et = time.time()"
   ],
   "metadata": {
    "collapsed": false
   }
  },
  {
   "cell_type": "code",
   "execution_count": 17,
   "outputs": [
    {
     "data": {
      "text/plain": "<Figure size 1800x400 with 2 Axes>",
      "image/png": "[encoded data removed]"
     },
     "metadata": {},
     "output_type": "display_data"
    }
   ],
   "source": [
    "fig, (ax1, ax2) = plt.subplots(nrows=1, ncols=2, figsize=(18, 4))\n",
    "\n",
    "ax1.set(xlabel='#Epochs', ylabel='Loss')\n",
    "fig.suptitle('Learning Progress')\n",
    "ax1.plot(train_losses_fam, label=\"Training Loss\")\n",
    "ax1.plot(val_losses_fam, label=\"Validation Loss\")\n",
    "ax1.legend()\n",
    "\n",
    "ax2.set(xlabel='#Epochs', ylabel='Accuracy')\n",
    "ax2.plot(train_accuracies_fam, label=\"Train Accuracy\")\n",
    "ax2.plot(val_accuracies_fam, label=\"Validation Accuracy\")\n",
    "ax2.legend()\n",
    "ax2.yaxis.set_major_formatter(FuncFormatter(lambda y, _: '{:.2%}'.format(y)))"
   ],
   "metadata": {
    "collapsed": false
   }
  },
  {
   "cell_type": "markdown",
   "source": [
    "# Evaluation"
   ],
   "metadata": {
    "collapsed": false
   }
  },
  {
   "cell_type": "code",
   "execution_count": 23,
   "outputs": [
    {
     "name": "stdout",
     "output_type": "stream",
     "text": [
      "Mean normalized edge accuracy: 98.16743932369785\n",
      "Execution time: 22.08s\n"
     ]
    }
   ],
   "source": [
    "cpu_model_center = model_center.cpu()\n",
    "\n",
    "\n",
    "class KantenKennerKarl(MyPredictionModel):\n",
    "\n",
    "    def __init__(self, model, model_center, fam_mapping):\n",
    "        self.model = model\n",
    "        self.model_center = model_center\n",
    "        self.fam_mapping = fam_mapping\n",
    "        self.part_mapping = part_mapper\n",
    "\n",
    "    def predict_graph(self, parts: Set[Part]) -> Graph:\n",
    "        parts_list = sorted(list(parts))\n",
    "        predicted_graph = Graph()\n",
    "        center_prediction = self.model_center(create_features_center(parts_list, fam_mapper)[0])\n",
    "        root_idx = None\n",
    "        for root_dfid_candidate in reversed(torch.argsort(center_prediction)):\n",
    "            for idx, part in enumerate(parts_list):\n",
    "                if part.get_dfid() == root_dfid_candidate:\n",
    "                    root_idx = idx\n",
    "                    break\n",
    "            if root_idx is not None:\n",
    "                break\n",
    "        parent_indices = set()\n",
    "        parent_indices.add(root_idx)\n",
    "        added_indices = set()\n",
    "        added_indices.add(root_idx)\n",
    "\n",
    "        root = parts_list[root_idx]\n",
    "        parent_mapping = {root: None}\n",
    "\n",
    "        predictions = torch.zeros(len(parts), 92)\n",
    "        for idx, part in enumerate(parts_list):\n",
    "            is_root_node = idx == root_idx\n",
    "            features = create_features_family_id_for_part(parts, part, is_root_node, self.fam_mapping)\n",
    "            predictions[idx] = self.model(features)\n",
    "\n",
    "        while len(parent_indices) > 0:\n",
    "            next_parent_indices = set()\n",
    "            for parent_idx in parent_indices:\n",
    "                parent = parts_list[parent_idx]\n",
    "                child_prediction = predictions[parent_idx]\n",
    "                for (child_dfid, occurrence_prediction) in enumerate(child_prediction):\n",
    "                    add_nodes = torch.argmax(\n",
    "                        predictions[:, child_dfid]) == parent_idx or occurrence_prediction.item() >= 0.5\n",
    "                    number_parts_to_add = 1 if add_nodes else 0\n",
    "                    if number_parts_to_add == 0:\n",
    "                        continue  #todo\n",
    "                    for child_idx, child in enumerate(parts_list):\n",
    "                        if number_parts_to_add == 0 and parent_idx != root_idx:\n",
    "                            break\n",
    "                        if child_idx not in added_indices and child.get_dfid() == child_dfid:\n",
    "                            added_indices.add(child_idx)\n",
    "                            next_parent_indices.add(child_idx)\n",
    "                            predicted_graph.add_undirected_edge(parent, child)\n",
    "                            parent_mapping[child] = parent\n",
    "                            number_parts_to_add -= 1\n",
    "            parent_indices = next_parent_indices\n",
    "\n",
    "        if len(added_indices) != len(parts_list):\n",
    "            for idx, part in enumerate(parts_list):\n",
    "                if idx not in added_indices:\n",
    "                    for best_parent_idx in reversed(torch.argsort(predictions[:, idx])):\n",
    "                        if best_parent_idx != idx:\n",
    "                            predicted_graph.add_undirected_edge(parts_list[best_parent_idx], part)\n",
    "                            added_indices.add(idx)\n",
    "                            break\n",
    "        return predicted_graph\n",
    "\n",
    "\n",
    "predictor = KantenKennerKarl(family_id_model.cpu(), cpu_model_center, fam_mapper)\n",
    "\n",
    "with torch.no_grad():\n",
    "    st = time.time()\n",
    "    accuracy = evaluate_graphs(predictor, val_graphs, max_perms=10_000)\n",
    "    print(f\"Mean normalized edge accuracy: {accuracy}\")\n",
    "    et = time.time()\n",
    "    print(f\"Execution time: {(et - st):.2f}s\")"
   ],
   "metadata": {
    "collapsed": false
   }
  },
  {
   "cell_type": "markdown",
   "source": [
    "# Training with part IDs\n",
    "\n",
    "Here we perform training and evaluation of the model using only the part IDs. The model is structurally the same but has more parameters in order to handle the larger feature vectors."
   ],
   "metadata": {
    "collapsed": false
   }
  },
  {
   "cell_type": "code",
   "execution_count": 26,
   "outputs": [
    {
     "name": "stderr",
     "output_type": "stream",
     "text": [
      "100%|██████████| 20/20 [00:38<00:00,  1.92s/it]"
     ]
    },
    {
     "name": "stdout",
     "output_type": "stream",
     "text": [
      "Execution time: 38.39 seconds\n"
     ]
    },
    {
     "name": "stderr",
     "output_type": "stream",
     "text": [
      "\n"
     ]
    }
   ],
   "source": [
    "part_id_model = Net(input_size=input_size_part, hidden_size=hidden_size_part, output_size=output_size_part).to(device)\n",
    "\n",
    "st = time.time()\n",
    "train_losses_part, val_losses_part, train_accuracies_part, val_accuracies_part = \\\n",
    "    train(model=part_id_model, lr=learning_rate, epochs=num_epochs, train_loader=train_loader_part_id,\n",
    "          val_loader=val_loader_part_id)\n",
    "\n",
    "et = time.time()\n",
    "print(f\"Execution time: {(et - st):.2f} seconds\")"
   ],
   "metadata": {
    "collapsed": false
   }
  },
  {
   "cell_type": "markdown",
   "source": [
    "Plot the resulting graphs for training with part IDs"
   ],
   "metadata": {
    "collapsed": false
   }
  },
  {
   "cell_type": "code",
   "execution_count": 27,
   "outputs": [
    {
     "data": {
      "text/plain": "<Figure size 1800x400 with 2 Axes>",
      "image/png": "[encoded data removed]"
     },
     "metadata": {},
     "output_type": "display_data"
    }
   ],
   "source": [
    "fig, (ax1, ax2) = plt.subplots(nrows=1, ncols=2, figsize=(18, 4))\n",
    "\n",
    "ax1.set(xlabel='#Epochs', ylabel='Loss')\n",
    "fig.suptitle('Learning Progress')\n",
    "ax1.plot(train_losses_part, label=\"Training Loss\")\n",
    "ax1.plot(val_losses_part, label=\"Validation Loss\")\n",
    "ax1.legend()\n",
    "\n",
    "ax2.set(xlabel='#Epochs', ylabel='Accuracy')\n",
    "ax2.plot(train_accuracies_part, label=\"Train Accuracy\")\n",
    "ax2.plot(val_accuracies_part, label=\"Validation Accuracy\")\n",
    "ax2.legend()\n",
    "ax2.yaxis.set_major_formatter(FuncFormatter(lambda y, _: '{:.2%}'.format(y)))"
   ],
   "metadata": {
    "collapsed": false
   }
  },
  {
   "cell_type": "code",
   "execution_count": 28,
   "outputs": [],
   "source": [
    "# Some helper methods for prediction of graphs with part IDs\n",
    "\n",
    "def get_parts_with_part_id(parts: List[Part], part_id: int) -> List[Part]:\n",
    "    return [part for part in parts if part.get_opid() == part_id]"
   ],
   "metadata": {
    "collapsed": false
   }
  },
  {
   "cell_type": "code",
   "execution_count": 29,
   "outputs": [],
   "source": [
    "class GraphenGuruGuenter(MyPredictionModel):\n",
    "\n",
    "    def __init__(self, model, part_mapping):\n",
    "        self.model = model\n",
    "        self.part_mapping = part_mapping\n",
    "\n",
    "    def predict_graph(self, parts: Set[Part]) -> Graph:\n",
    "        raw_predictions = []\n",
    "        feature_tensors = create_features_part_id(parts, self.part_mapping)\n",
    "        for feature_tensor in feature_tensors:\n",
    "            prediction = self.model(feature_tensor)\n",
    "            raw_predictions.append(prediction)\n",
    "        raw_predictions = torch.stack(raw_predictions)\n",
    "        return self.build_predicted_graph(parts, raw_predictions)\n",
    "\n",
    "    def build_predicted_graph(self, parts: Set[Part], pred_adj_matrix: Tensor) -> Graph:\n",
    "        parts_list = sorted(list(parts))\n",
    "        added_parts = set()\n",
    "        node_count = len(parts_list)\n",
    "        predicted_graph = Graph()\n",
    "\n",
    "        while predicted_graph.get_edge_count() // 2 < node_count - 1 and not torch.all(pred_adj_matrix < 1e-3):\n",
    "\n",
    "            max_signal_idx = (pred_adj_matrix == torch.max(pred_adj_matrix)).nonzero()\n",
    "            source_idx = max_signal_idx[0][0].item()\n",
    "            sink_dense_part_id = max_signal_idx[0][1].item()\n",
    "\n",
    "            source_orig_part_id = parts_list[source_idx].get_opid()\n",
    "            sink_orig_part_id = self.part_mapping.to_orig(sink_dense_part_id)\n",
    "\n",
    "            parts_with_source_part_id = get_parts_with_part_id(parts_list, source_orig_part_id)\n",
    "            parts_with_sink_part_id = get_parts_with_part_id(parts_list, sink_orig_part_id)\n",
    "\n",
    "            for source in parts_with_source_part_id:\n",
    "                for sink in parts_with_sink_part_id:\n",
    "                    if source != sink and not (source in added_parts and sink in added_parts):\n",
    "                        predicted_graph.add_undirected_edge(source, sink)\n",
    "                        added_parts.add(source)\n",
    "                        added_parts.add(sink)\n",
    "                        break\n",
    "\n",
    "            pred_adj_matrix[source_idx][sink_dense_part_id] = 0.0\n",
    "        return predicted_graph\n",
    "\n"
   ],
   "metadata": {
    "collapsed": false
   }
  },
  {
   "cell_type": "code",
   "execution_count": 30,
   "outputs": [
    {
     "ename": "AssertionError",
     "evalue": "Mismatch in number of nodes.",
     "output_type": "error",
     "traceback": [
      "\u001B[1;31m---------------------------------------------------------------------------\u001B[0m",
      "\u001B[1;31mAssertionError\u001B[0m                            Traceback (most recent call last)",
      "Cell \u001B[1;32mIn[30], line 5\u001B[0m\n\u001B[0;32m      3\u001B[0m \u001B[38;5;28;01mwith\u001B[39;00m torch\u001B[38;5;241m.\u001B[39mno_grad():\n\u001B[0;32m      4\u001B[0m     st \u001B[38;5;241m=\u001B[39m time\u001B[38;5;241m.\u001B[39mtime()\n\u001B[1;32m----> 5\u001B[0m     accuracy \u001B[38;5;241m=\u001B[39m \u001B[43mevaluate_graphs\u001B[49m\u001B[43m(\u001B[49m\u001B[43mpredictor\u001B[49m\u001B[43m,\u001B[49m\u001B[43m \u001B[49m\u001B[43mval_graphs\u001B[49m\u001B[43m)\u001B[49m\n\u001B[0;32m      6\u001B[0m     \u001B[38;5;28mprint\u001B[39m(\u001B[38;5;124mf\u001B[39m\u001B[38;5;124m\"\u001B[39m\u001B[38;5;124mMean normalized edge accuracy: \u001B[39m\u001B[38;5;132;01m{\u001B[39;00maccuracy\u001B[38;5;132;01m}\u001B[39;00m\u001B[38;5;124m\"\u001B[39m)\n\u001B[0;32m      7\u001B[0m     et \u001B[38;5;241m=\u001B[39m time\u001B[38;5;241m.\u001B[39mtime()\n",
      "File \u001B[1;32m~\\DataspellProjects\\ai-project\\evaluation.py:47\u001B[0m, in \u001B[0;36mevaluate_graphs\u001B[1;34m(model, graphs, max_perms)\u001B[0m\n\u001B[0;32m     45\u001B[0m \u001B[38;5;28;01mdef\u001B[39;00m \u001B[38;5;21mevaluate_graphs\u001B[39m(model: MyPredictionModel, graphs: List[Graph], max_perms\u001B[38;5;241m=\u001B[39m\u001B[38;5;28;01mNone\u001B[39;00m) \u001B[38;5;241m-\u001B[39m\u001B[38;5;241m>\u001B[39m \u001B[38;5;28mfloat\u001B[39m:\n\u001B[0;32m     46\u001B[0m     data_set \u001B[38;5;241m=\u001B[39m [(graph\u001B[38;5;241m.\u001B[39mget_parts(), graph) \u001B[38;5;28;01mfor\u001B[39;00m graph \u001B[38;5;129;01min\u001B[39;00m graphs]\n\u001B[1;32m---> 47\u001B[0m     \u001B[38;5;28;01mreturn\u001B[39;00m \u001B[43mevaluate\u001B[49m\u001B[43m(\u001B[49m\u001B[43mmodel\u001B[49m\u001B[38;5;241;43m=\u001B[39;49m\u001B[43mmodel\u001B[49m\u001B[43m,\u001B[49m\u001B[43m \u001B[49m\u001B[43mdata_set\u001B[49m\u001B[38;5;241;43m=\u001B[39;49m\u001B[43mdata_set\u001B[49m\u001B[43m,\u001B[49m\u001B[43m \u001B[49m\u001B[43mmax_perms\u001B[49m\u001B[38;5;241;43m=\u001B[39;49m\u001B[43mmax_perms\u001B[49m\u001B[43m)\u001B[49m\n",
      "File \u001B[1;32m~\\DataspellProjects\\ai-project\\evaluation.py:77\u001B[0m, in \u001B[0;36mevaluate\u001B[1;34m(model, data_set, max_perms)\u001B[0m\n\u001B[0;32m     74\u001B[0m     predicted_graph \u001B[38;5;241m=\u001B[39m model\u001B[38;5;241m.\u001B[39mpredict_graph(input_parts)\n\u001B[0;32m     76\u001B[0m     edges_counter \u001B[38;5;241m+\u001B[39m\u001B[38;5;241m=\u001B[39m \u001B[38;5;28mlen\u001B[39m(input_parts) \u001B[38;5;241m*\u001B[39m \u001B[38;5;28mlen\u001B[39m(input_parts)\n\u001B[1;32m---> 77\u001B[0m     sum_correct_edges \u001B[38;5;241m+\u001B[39m\u001B[38;5;241m=\u001B[39m \u001B[43medge_accuracy\u001B[49m\u001B[43m(\u001B[49m\u001B[43mpredicted_graph\u001B[49m\u001B[43m,\u001B[49m\u001B[43m \u001B[49m\u001B[43mtarget_graph\u001B[49m\u001B[43m,\u001B[49m\u001B[43m \u001B[49m\u001B[43mmax_perms\u001B[49m\u001B[43m)\u001B[49m\n\u001B[0;32m     79\u001B[0m     \u001B[38;5;66;03m# FYI: maybe some more evaluation metrics will be used in final evaluation\u001B[39;00m\n\u001B[0;32m     81\u001B[0m \u001B[38;5;28;01mreturn\u001B[39;00m sum_correct_edges \u001B[38;5;241m/\u001B[39m edges_counter \u001B[38;5;241m*\u001B[39m \u001B[38;5;241m100\u001B[39m\n",
      "File \u001B[1;32m~\\DataspellProjects\\ai-project\\evaluation.py:129\u001B[0m, in \u001B[0;36medge_accuracy\u001B[1;34m(predicted_graph, target_graph, max_perms)\u001B[0m\n\u001B[0;32m    122\u001B[0m \u001B[38;5;28;01mdef\u001B[39;00m \u001B[38;5;21medge_accuracy\u001B[39m(predicted_graph: Graph, target_graph: Graph, max_perms\u001B[38;5;241m=\u001B[39m\u001B[38;5;28;01mNone\u001B[39;00m) \u001B[38;5;241m-\u001B[39m\u001B[38;5;241m>\u001B[39m \u001B[38;5;28mint\u001B[39m:\n\u001B[0;32m    123\u001B[0m     \u001B[38;5;124;03m\"\"\"\u001B[39;00m\n\u001B[0;32m    124\u001B[0m \u001B[38;5;124;03m    Returns the number of correct predicted edges.\u001B[39;00m\n\u001B[0;32m    125\u001B[0m \u001B[38;5;124;03m    :param predicted_graph:\u001B[39;00m\n\u001B[0;32m    126\u001B[0m \u001B[38;5;124;03m    :param target_graph:\u001B[39;00m\n\u001B[0;32m    127\u001B[0m \u001B[38;5;124;03m    :return:\u001B[39;00m\n\u001B[0;32m    128\u001B[0m \u001B[38;5;124;03m    \"\"\"\u001B[39;00m\n\u001B[1;32m--> 129\u001B[0m     \u001B[38;5;28;01massert\u001B[39;00m \u001B[38;5;28mlen\u001B[39m(predicted_graph\u001B[38;5;241m.\u001B[39mget_nodes()) \u001B[38;5;241m==\u001B[39m \u001B[38;5;28mlen\u001B[39m(target_graph\u001B[38;5;241m.\u001B[39mget_nodes()), \u001B[38;5;124m'\u001B[39m\u001B[38;5;124mMismatch in number of nodes.\u001B[39m\u001B[38;5;124m'\u001B[39m\n\u001B[0;32m    130\u001B[0m     \u001B[38;5;28;01massert\u001B[39;00m predicted_graph\u001B[38;5;241m.\u001B[39mget_parts() \u001B[38;5;241m==\u001B[39m target_graph\u001B[38;5;241m.\u001B[39mget_parts(), \u001B[38;5;124m'\u001B[39m\u001B[38;5;124mMismatch in expected and given parts.\u001B[39m\u001B[38;5;124m'\u001B[39m\n\u001B[0;32m    132\u001B[0m     \u001B[38;5;28;01mif\u001B[39;00m max_perms \u001B[38;5;129;01mis\u001B[39;00m \u001B[38;5;129;01mnot\u001B[39;00m \u001B[38;5;28;01mNone\u001B[39;00m \u001B[38;5;129;01mand\u001B[39;00m calculate_num_permutations(predicted_graph) \u001B[38;5;241m>\u001B[39m max_perms:\n\u001B[0;32m    133\u001B[0m         \u001B[38;5;66;03m# Calculating the accuracy for this graph would take too long, so we skip calculating it and return 0.\u001B[39;00m\n",
      "\u001B[1;31mAssertionError\u001B[0m: Mismatch in number of nodes."
     ]
    }
   ],
   "source": [
    "predictor = GraphenGuruGuenter(part_id_model.cpu(), part_mapper, max_perms=10_000)\n",
    "\n",
    "with torch.no_grad():\n",
    "    st = time.time()\n",
    "    accuracy = evaluate_graphs(predictor, val_graphs)\n",
    "    print(f\"Mean normalized edge accuracy: {accuracy}\")\n",
    "    et = time.time()\n",
    "    print(f\"Execution time: {(et - st):.2f}s\")"
   ],
   "metadata": {
    "collapsed": false
   }
  },
  {
   "cell_type": "markdown",
   "source": [
    "# Family IDs or part IDs?\n",
    "\n",
    "As can be seen above, the model using only the part IDs has approximately the same performance as the model using only the family IDs. Because training and inference with the latter is much faster we stick to the approach with the family IDs from here on."
   ],
   "metadata": {
    "collapsed": false
   }
  },
  {
   "cell_type": "markdown",
   "source": [
    "# Hyperparameter tuning\n",
    "\n",
    "Because our model is very fast to train, we can try a lot of different hyperparameter settings. As described in the lecture we use a grid search approach here for finding the best hyperparameter setting. We will tune hidden layer size, learning rate, epochs. We intentionally skip the drawing of the loss and accuracy charts to not clutter the output due to the high number of combinations."
   ],
   "metadata": {
    "collapsed": false
   }
  },
  {
   "cell_type": "code",
   "execution_count": null,
   "outputs": [],
   "source": [
    "import itertools\n",
    "from prettytable import PrettyTable\n",
    "\n",
    "num_ids = len(fam_mapper)\n",
    "hidden_layer_sizes = [2 * num_ids, 4 * num_ids]\n",
    "learning_rates = [0.001, 0.01]\n",
    "epochs = [10, 25, 50]\n",
    "permutations = list(itertools.product(hidden_layer_sizes, learning_rates, epochs))\n",
    "\n",
    "results = []\n",
    "with tqdm(permutations) as permutation_progress:\n",
    "    for layer_size, lr, epochs in permutation_progress:\n",
    "        model = Net(input_size=input_size_fam, hidden_size=layer_size, output_size=output_size_fam).to(device)\n",
    "        train(model=model, lr=lr, epochs=epochs, train_loader=train_loader_fam_id, val_loader=val_loader_fam_id,\n",
    "              show_progress=False)\n",
    "\n",
    "        cpu_model = model.cpu()\n",
    "        predictor = KantenKennerKarl(cpu_model, fam_mapper)\n",
    "\n",
    "        with torch.no_grad():\n",
    "            accuracy = evaluate_graphs(predictor, val_graphs, show_progress=False)\n",
    "            results.append((layer_size, lr, epochs, accuracy))\n",
    "\n",
    "results = sorted(results, key=lambda x: x[3], reverse=True)\n",
    "t = PrettyTable(['Hidden Layer Size', 'Learning Rate', 'Epochs', 'Accuracy'])\n",
    "for row in results:\n",
    "    t.add_row(row)\n",
    "\n",
    "print(t)\n",
    "\n",
    "\n",
    "\n"
   ],
   "metadata": {
    "collapsed": false
   }
  },
  {
   "cell_type": "markdown",
   "source": [
    "Save prediction model"
   ],
   "metadata": {
    "collapsed": false
   }
  },
  {
   "cell_type": "code",
   "execution_count": null,
   "outputs": [],
   "source": [
    "with open('data/karl.dat', 'wb') as file:\n",
    "    pickle.dump(predictor, file=file)"
   ],
   "metadata": {
    "collapsed": false
   }
  }
 ],
 "metadata": {
  "kernelspec": {
   "display_name": "Python 3",
   "language": "python",
   "name": "python3"
  },
  "language_info": {
   "codemirror_mode": {
    "name": "ipython",
    "version": 2
   },
   "file_extension": ".py",
   "mimetype": "text/x-python",
   "name": "python",
   "nbconvert_exporter": "python",
   "pygments_lexer": "ipython2",
   "version": "2.7.6"
  }
 },
 "nbformat": 4,
 "nbformat_minor": 0
}
