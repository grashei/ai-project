{
 "cells": [
  {
   "cell_type": "code",
   "execution_count": 6,
   "outputs": [],
   "source": [
    "import random\n",
    "import time\n",
    "from math import ceil\n",
    "from typing import Dict, Tuple\n",
    "from typing import List, Set\n",
    "\n",
    "import torch\n",
    "from torch import Tensor\n",
    "from torch import nn\n",
    "from torch.utils.data import Dataset, DataLoader\n",
    "\n",
    "import numpy as np\n",
    "\n",
    "from graph import Graph\n",
    "from part import Part\n",
    "from node import Node\n",
    "from preprocess import create_family_id_mapping\n",
    "from mapping import FamilyIdMapper\n",
    "from utils import load_graphs\n",
    "from matplotlib import pyplot as plt\n",
    "from tqdm import tqdm\n",
    "from evaluation import edge_accuracy"
   ],
   "metadata": {
    "collapsed": false
   }
  },
  {
   "cell_type": "code",
   "execution_count": 7,
   "outputs": [],
   "source": [
    "graphs = load_graphs()\n",
    "mapping = create_family_id_mapping(graphs)\n",
    "fam_mapping = FamilyIdMapper(graphs)\n",
    "\n",
    "seed = 7\n",
    "random.Random(seed).shuffle(graphs)\n",
    "\n",
    "training_set_size_ratio = 0.8\n",
    "validation_set_size_ratio = 0.1\n",
    "batch_size = 1024\n",
    "\n",
    "input_size = 2 * len(mapping)  # 184\n",
    "output_size = len(mapping)  # 92\n",
    "\n",
    "input_size = input_size\n",
    "hidden_size = 2 * input_size\n",
    "output_size = output_size\n",
    "\n",
    "learning_rate = 0.003\n",
    "num_epochs = 50"
   ],
   "metadata": {
    "collapsed": false
   }
  },
  {
   "cell_type": "code",
   "execution_count": 8,
   "outputs": [],
   "source": [
    "def create_features(graph: Graph, fam_mapping: FamilyIdMapper) -> Tuple[List[Tensor], List[Tensor]]:\n",
    "    num_different_family_ids = fam_mapping.get_len()\n",
    "\n",
    "    # Create a tensor for existing nodes and count their occurrences\n",
    "    all_nodes_tensor = torch.zeros(num_different_family_ids, dtype=torch.float)\n",
    "    nodes = graph.get_nodes()\n",
    "    edges = graph.get_edges()\n",
    "\n",
    "    feature_tensors = []\n",
    "    target_tensors = []\n",
    "\n",
    "    for node in nodes:\n",
    "        dense_family_id = fam_mapping.to_dense(int(node.get_part().get_family_id()))\n",
    "        all_nodes_tensor[dense_family_id] += 1.0\n",
    "\n",
    "        target_tensor = torch.zeros(num_different_family_ids, dtype=torch.float)\n",
    "        for neighbour_node in edges[node]:\n",
    "            neighbour_node_dense_family_id = fam_mapping.to_dense(int(neighbour_node.get_part().get_family_id()))\n",
    "            target_tensor[neighbour_node_dense_family_id] = 1\n",
    "        target_tensors.append(target_tensor)\n",
    "\n",
    "    for node in nodes:\n",
    "        dense_family_id = fam_mapping.to_dense(int(node.get_part().get_family_id()))\n",
    "        given_node_tensor = torch.zeros(num_different_family_ids, dtype=torch.float)\n",
    "        given_node_tensor[dense_family_id] = 1\n",
    "\n",
    "        feature_tensors.append(torch.cat((all_nodes_tensor, given_node_tensor), dim=-1))\n",
    "\n",
    "    return feature_tensors, target_tensors"
   ],
   "metadata": {
    "collapsed": false
   }
  },
  {
   "cell_type": "code",
   "execution_count": 9,
   "outputs": [],
   "source": [
    "# split data into train, val and test - they are already shuffled\n",
    "\n",
    "train_upper = ceil(training_set_size_ratio * len(graphs))\n",
    "val_upper = ceil((training_set_size_ratio + validation_set_size_ratio) * len(graphs))\n",
    "\n",
    "train_graphs = graphs[0:train_upper]\n",
    "val_graphs = graphs[train_upper:val_upper]\n",
    "test_graphs = graphs[val_upper:len(graphs) + 1]\n",
    "\n",
    "\n",
    "class GraphDataset(Dataset):\n",
    "    def __init__(self, graphs: List[Graph]):\n",
    "        x_list = []\n",
    "        y_list = []\n",
    "        for graph in graphs:\n",
    "            x_per_graph, y_per_graph = create_features(graph, fam_mapping)\n",
    "            x_list += x_per_graph\n",
    "            y_list += y_per_graph\n",
    "        self.x_tensor = torch.stack(x_list)\n",
    "        self.y_tensor = torch.stack(y_list)\n",
    "        self.n_samples = self.y_tensor.shape[0]\n",
    "\n",
    "    def __getitem__(self, index):\n",
    "        return self.x_tensor[index], self.y_tensor[index]\n",
    "\n",
    "    def __len__(self):\n",
    "        return self.n_samples\n",
    "\n",
    "\n",
    "train_loader = DataLoader(\n",
    "    dataset=GraphDataset(train_graphs),\n",
    "    batch_size=batch_size,\n",
    "    shuffle=True,\n",
    ")\n",
    "val_loader = DataLoader(\n",
    "    dataset=GraphDataset(val_graphs),\n",
    "    batch_size=batch_size,\n",
    "    shuffle=False,\n",
    ")"
   ],
   "metadata": {
    "collapsed": false
   }
  },
  {
   "cell_type": "code",
   "execution_count": 10,
   "outputs": [
    {
     "name": "stderr",
     "output_type": "stream",
     "text": [
      "100%|██████████| 50/50 [00:31<00:00,  1.59it/s]"
     ]
    },
    {
     "name": "stdout",
     "output_type": "stream",
     "text": [
      "Execution time: 31.46s\n"
     ]
    },
    {
     "name": "stderr",
     "output_type": "stream",
     "text": [
      "\n"
     ]
    }
   ],
   "source": [
    "class Net(nn.Module):\n",
    "    def __init__(self):\n",
    "        super(Net, self).__init__()\n",
    "        self.fc1 = nn.Linear(input_size, hidden_size)\n",
    "        # self.fc2 = nn.Linear(..., ...)\n",
    "        self.fc3 = nn.Linear(hidden_size, output_size)\n",
    "\n",
    "    def forward(self, x):\n",
    "        x = torch.relu(self.fc1(x))\n",
    "        # x = torch.relu(self.fc2(x))\n",
    "        x = torch.sigmoid(self.fc3(x))\n",
    "        return x\n",
    "\n",
    "st = time.time()\n",
    "\n",
    "device = torch.device(\"cuda\" if torch.cuda.is_available() else \"mps\" if torch.has_mps else \"cpu\")\n",
    "model = Net().to(device)\n",
    "n_total_steps = len(train_loader)\n",
    "\n",
    "optimizer = torch.optim.Adam(model.parameters(), lr=learning_rate)\n",
    "loss_fn = nn.BCELoss()\n",
    "train_losses = []\n",
    "val_losses = []\n",
    "\n",
    "train_accuracies = []\n",
    "val_accuracies = []\n",
    "\n",
    "for epoch in tqdm(range(num_epochs),ascii=\"░▒█\"):\n",
    "    train_losses_per_epoch = 0.0\n",
    "    train_accuracy_per_epoch = 0.0\n",
    "    for i, (x_train, y_train) in enumerate(train_loader):\n",
    "        x_train = x_train.to(device)\n",
    "        y_train = y_train.to(device)\n",
    "        y_pred = model(x_train)\n",
    "        loss = loss_fn(y_pred, y_train)\n",
    "        train_losses_per_epoch += loss.cpu().detach().numpy()\n",
    "        train_accuracy = torch.sum(y_train == y_pred.round()) / torch.numel(y_train)\n",
    "        train_accuracy_per_epoch += train_accuracy.cpu().detach().numpy()\n",
    "        optimizer.zero_grad()\n",
    "        loss.backward()\n",
    "        optimizer.step()\n",
    "\n",
    "    train_losses.append(train_losses_per_epoch / len(train_loader))\n",
    "    train_accuracies.append(train_accuracy_per_epoch / len(train_loader))\n",
    "\n",
    "    with torch.no_grad():\n",
    "        val_losses_per_epoch = 0.0\n",
    "        val_accuracies_per_epoch = 0.0\n",
    "        for i, (x_val, y_val) in enumerate(val_loader):\n",
    "            x_val = x_val.to(device)\n",
    "            y_val = y_val.to(device)\n",
    "            y_pred = model(x_val)\n",
    "            loss = loss_fn(y_pred, y_val)\n",
    "            val_accuracy = torch.sum(y_val == y_pred.round()) / torch.numel(y_val)\n",
    "            val_losses_per_epoch += loss.cpu()\n",
    "            val_accuracies_per_epoch += val_accuracy.cpu()\n",
    "        val_losses.append(val_losses_per_epoch / len(val_loader))\n",
    "        val_accuracies.append(val_accuracies_per_epoch / len(val_loader))\n",
    "\n",
    "et = time.time()\n",
    "print(f\"Execution time: {(et - st):.2f}s\")"
   ],
   "metadata": {
    "collapsed": false
   }
  },
  {
   "cell_type": "code",
   "execution_count": 11,
   "outputs": [
    {
     "data": {
      "text/plain": "<Figure size 640x480 with 1 Axes>",
      "image/png": "[encoded data removed]"
     },
     "metadata": {},
     "output_type": "display_data"
    },
    {
     "data": {
      "text/plain": "<Figure size 640x480 with 1 Axes>",
      "image/png": "[encoded data removed]"
     },
     "metadata": {},
     "output_type": "display_data"
    }
   ],
   "source": [
    "plt.plot(train_losses, label=\"Training Loss\")\n",
    "plt.plot(val_losses, label=\"Validation Loss\")\n",
    "plt.legend()\n",
    "# plt.yscale('log')\n",
    "plt.show()\n",
    "\n",
    "plt.plot(train_accuracies, label=\"Train Accuracy\")\n",
    "plt.plot(val_accuracies, label=\"Validation Accuracy\")\n",
    "plt.legend()\n",
    "# plt.yscale('log')\n",
    "plt.show()"
   ],
   "metadata": {
    "collapsed": false
   }
  },
  {
   "cell_type": "code",
   "execution_count": 13,
   "outputs": [
    {
     "name": "stderr",
     "output_type": "stream",
     "text": [
      "100%|██████████| 1115/1115 [03:00<00:00,  6.16it/s]"
     ]
    },
    {
     "name": "stdout",
     "output_type": "stream",
     "text": [
      "Edge accuracy: 0.9770174706484883\n",
      "Execution time: 180.92s\n"
     ]
    },
    {
     "name": "stderr",
     "output_type": "stream",
     "text": [
      "\n"
     ]
    }
   ],
   "source": [
    "st = time.time()\n",
    "\n",
    "edge_accuracies = []\n",
    "cpu_model = model.cpu()\n",
    "with torch.no_grad():\n",
    "    with tqdm(test_graphs) as val_graphs_with_progress:\n",
    "        for index, test_graph in enumerate(val_graphs_with_progress):\n",
    "            # matrix dimensions: x = nodes_list index, y = dense family id\n",
    "            predicted_adjacency_matrix = []\n",
    "            predicted_graph = Graph()\n",
    "            x, y = create_features(test_graph, fam_mapping)\n",
    "            for x_test, y_test in zip(x, y):\n",
    "                y_test_pred = cpu_model(x_test)\n",
    "                predicted_adjacency_matrix.append(y_test_pred)\n",
    "            predicted_adjacency_matrix = torch.stack(predicted_adjacency_matrix)\n",
    "\n",
    "            nodes = test_graph.get_nodes()\n",
    "            nodes_list = list(nodes)\n",
    "            node_count = len(nodes)\n",
    "            added_nodes = set()\n",
    "            last_rep_node_a_index = -1\n",
    "            last_node_b_dense_family_id = -1\n",
    "            predicted_graph_edge_count = 0\n",
    "\n",
    "            while True:\n",
    "                max_pos_tensor = (predicted_adjacency_matrix == torch.max(predicted_adjacency_matrix)).nonzero()\n",
    "                rep_node_a_index = max_pos_tensor[0][0].item()\n",
    "                node_b_dense_family_id = max_pos_tensor[0][1].item()\n",
    "\n",
    "                if rep_node_a_index == last_rep_node_a_index and node_b_dense_family_id == last_node_b_dense_family_id:\n",
    "                    break\n",
    "                last_rep_node_a_index = rep_node_a_index\n",
    "                last_node_b_dense_family_id = node_b_dense_family_id\n",
    "\n",
    "                node_a_family_id = int(nodes_list[rep_node_a_index].get_part().get_family_id())\n",
    "                node_b_family_id = fam_mapping.to_orig(node_b_dense_family_id)\n",
    "                node_a_dense_family_id = fam_mapping.to_dense(node_a_family_id)\n",
    "\n",
    "                for node_a_index, node_a in enumerate(nodes_list):\n",
    "                    if int(node_a.get_part().get_family_id()) == node_a_family_id:\n",
    "                        for node_b_index, node_b in enumerate(nodes_list):\n",
    "                            if int(node_b.get_part().get_family_id()) == node_b_family_id:\n",
    "                                if not (node_a in added_nodes and node_b in added_nodes):\n",
    "                                    predicted_graph.add_undirected_edge(node_a.get_part(), node_b.get_part())\n",
    "                                    predicted_graph_edge_count += 1\n",
    "                                    added_nodes.add(node_a)\n",
    "                                    added_nodes.add(node_b)\n",
    "                                    break\n",
    "\n",
    "                                # non-necessary performance optimization\n",
    "                                predicted_adjacency_matrix[node_a_index][node_b_dense_family_id] = 0.0\n",
    "                                predicted_adjacency_matrix[node_b_index][node_a_dense_family_id] = 0.0\n",
    "                predicted_adjacency_matrix[rep_node_a_index][node_b_dense_family_id] = 0.0\n",
    "                if predicted_graph_edge_count == node_count - 1:\n",
    "                    break\n",
    "            graph_edge_accuracy = edge_accuracy(test_graph, predicted_graph) / (node_count * node_count)\n",
    "            # print(f\"edge_accuracy: {graph_edge_accuracy}\")\n",
    "            # test_graph.draw()\n",
    "            # predicted_graph.draw()\n",
    "            # print(\"----\")\n",
    "\n",
    "            edge_accuracies.append(graph_edge_accuracy)\n",
    "print(f\"Edge accuracy: {sum(edge_accuracies) / len(edge_accuracies)}\")\n",
    "\n",
    "et = time.time()\n",
    "print(f\"Execution time: {(et - st):.2f}s\")"
   ],
   "metadata": {
    "collapsed": false
   }
  },
  {
   "cell_type": "code",
   "execution_count": null,
   "outputs": [],
   "source": [
    "test_graphs[4].draw()"
   ],
   "metadata": {
    "collapsed": false
   }
  },
  {
   "cell_type": "code",
   "execution_count": 14,
   "outputs": [
    {
     "name": "stderr",
     "output_type": "stream",
     "text": [
      "100%|██████████| 1115/1115 [02:53<00:00,  6.42it/s]"
     ]
    },
    {
     "name": "stdout",
     "output_type": "stream",
     "text": [
      "Mean edge accuracy: 0.976832083036106\n",
      "Execution time: 173.81s\n"
     ]
    },
    {
     "name": "stderr",
     "output_type": "stream",
     "text": [
      "\n"
     ]
    }
   ],
   "source": [
    "cpu_model = model.cpu()\n",
    "\n",
    "def check_for_cycle(graph: Graph, source: Part, sink: Part):\n",
    "    graph.add_undirected_edge(source, sink)\n",
    "    return graph.is_cyclic()\n",
    "\n",
    "def get_nodes_with_fam_id(nodes: List[Node], fam_id: int) -> List[Node]:\n",
    "    return [node for node in nodes if int(node.get_part().get_family_id()) == fam_id]\n",
    "\n",
    "def get_least_fam_id_neighbours_node(graph: Graph, nodes: List[Node], fam_id: int) -> Node:\n",
    "    balance_counts = [0] * len(nodes)\n",
    "    for i, node in enumerate(nodes):\n",
    "        edges = graph.get_edges().get(node)\n",
    "        if edges is not None:\n",
    "            balance_counts[i] = \\\n",
    "                sum(1 if int(n.get_part().get_family_id()) == fam_id else 0 for n in edges)\n",
    "\n",
    "    balanced_node_idx: int = np.array(balance_counts).argmin()\n",
    "    node = nodes[balanced_node_idx]\n",
    "    return node\n",
    "\n",
    "\n",
    "\n",
    "def predict_graphs(graphs: List[Graph], fam_mapping: FamilyIdMapper, draw=False):\n",
    "    edge_accuracies = []\n",
    "    with torch.no_grad():\n",
    "        with tqdm(graphs) as graphs_with_progress:\n",
    "            for graph in graphs_with_progress:\n",
    "                raw_predictions = []\n",
    "                x, y = create_features(graph, fam_mapping)\n",
    "                for x_test, y_test in zip(x, y):\n",
    "                    y_test_pred = cpu_model(x_test)\n",
    "                    raw_predictions.append(y_test_pred)\n",
    "                raw_predictions = torch.stack(raw_predictions)\n",
    "\n",
    "                predicted_graph = build_predicted_graph(graph, raw_predictions, fam_mapping)\n",
    "\n",
    "                node_count = len(graph.get_nodes())\n",
    "                graph_edge_accuracy = edge_accuracy(graph, predicted_graph) / (node_count * node_count)\n",
    "                if draw:\n",
    "                    print(f\"edge_accuracy: {graph_edge_accuracy}\")\n",
    "                    graph.draw()\n",
    "                    predicted_graph.draw()\n",
    "                    print(\"----\")\n",
    "\n",
    "\n",
    "                edge_accuracies.append(graph_edge_accuracy)\n",
    "    print(f\"Mean edge accuracy: {sum(edge_accuracies) / len(edge_accuracies)}\")\n",
    "\n",
    "def build_predicted_graph(input_graph: Graph, pred_adj_matrix: Tensor, fam_mapping: FamilyIdMapper) -> Graph:\n",
    "    nodes = input_graph.get_nodes()\n",
    "    nodes_list = list(nodes)\n",
    "    added_nodes = set()\n",
    "    predicted_graph = Graph()\n",
    "\n",
    "    while predicted_graph.get_edge_count() // 2 < input_graph.get_node_count() - 1 and not torch.all(pred_adj_matrix < 1e-3):\n",
    "        max_signal_idx = (pred_adj_matrix == torch.max(pred_adj_matrix)).nonzero()\n",
    "        source_node_idx = max_signal_idx[0][0].item()\n",
    "        sink_dense_fam_id = max_signal_idx[0][1].item()\n",
    "\n",
    "        source_orig_fam_id = int(nodes_list[source_node_idx].get_part().get_family_id())\n",
    "        sink_orig_fam_id = fam_mapping.to_orig(sink_dense_fam_id)\n",
    "\n",
    "        nodes_with_source_fam_id = get_nodes_with_fam_id(nodes_list, source_orig_fam_id)\n",
    "        nodes_with_sink_fam_id = get_nodes_with_fam_id(nodes_list, sink_orig_fam_id)\n",
    "\n",
    "        for source in nodes_with_source_fam_id:\n",
    "            for sink in nodes_with_sink_fam_id:\n",
    "                if not (source in added_nodes and sink in added_nodes):\n",
    "                    predicted_graph.add_undirected_edge(source.get_part(), sink.get_part())\n",
    "                    added_nodes.add(source)\n",
    "                    added_nodes.add(sink)\n",
    "                    break\n",
    "\n",
    "        pred_adj_matrix[source_node_idx][sink_dense_fam_id] = 0.0\n",
    "\n",
    "    return predicted_graph\n",
    "\n",
    "st = time.time()\n",
    "predict_graphs(test_graphs, fam_mapping, draw=False)\n",
    "et = time.time()\n",
    "print(f\"Execution time: {(et - st):.2f}s\")"
   ],
   "metadata": {
    "collapsed": false
   }
  }
 ],
 "metadata": {
  "kernelspec": {
   "display_name": "Python 3",
   "language": "python",
   "name": "python3"
  },
  "language_info": {
   "codemirror_mode": {
    "name": "ipython",
    "version": 2
   },
   "file_extension": ".py",
   "mimetype": "text/x-python",
   "name": "python",
   "nbconvert_exporter": "python",
   "pygments_lexer": "ipython2",
   "version": "2.7.6"
  }
 },
 "nbformat": 4,
 "nbformat_minor": 0
}
