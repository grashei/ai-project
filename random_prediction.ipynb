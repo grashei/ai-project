{
 "cells": [
  {
   "cell_type": "code",
   "execution_count": 1,
   "outputs": [],
   "source": [
    "import random\n",
    "from math import ceil\n",
    "\n",
    "from evaluation import edge_accuracy\n",
    "from graph import Graph\n",
    "from utils import load_graphs\n",
    "\n",
    "seed = 7\n",
    "training_set_size_ratio = 0.8\n",
    "validation_set_size_ratio = 0.1\n",
    "\n",
    "graphs = load_graphs()\n",
    "random.Random(seed).shuffle(graphs)\n",
    "train_upper = ceil(training_set_size_ratio * len(graphs))\n",
    "val_upper = ceil((training_set_size_ratio + validation_set_size_ratio) * len(graphs))\n",
    "\n",
    "train_graphs = graphs[0:train_upper]\n",
    "val_graphs = graphs[train_upper:val_upper]\n",
    "test_graphs = graphs[val_upper:len(graphs) + 1]"
   ],
   "metadata": {
    "collapsed": false
   }
  },
  {
   "cell_type": "code",
   "execution_count": 2,
   "outputs": [
    {
     "data": {
      "text/plain": "0.6862070271069691"
     },
     "execution_count": 2,
     "metadata": {},
     "output_type": "execute_result"
    }
   ],
   "source": [
    "# Test accuracy of randomly generated trees\n",
    "edge_accuracies = []\n",
    "for test_graph in test_graphs[:100]:\n",
    "    predicted_graph = Graph()\n",
    "    nodes = test_graph.get_nodes()\n",
    "    node_count = len(nodes)\n",
    "    random_nodes_list = list(nodes)\n",
    "    random.shuffle(random_nodes_list)\n",
    "    node_a_index = 0\n",
    "    node_b_index = 1\n",
    "\n",
    "    for node_a_index in range(node_count - 1):\n",
    "        existing_node_index = random.randint(0, node_a_index)\n",
    "        existing_node = random_nodes_list[existing_node_index]\n",
    "        new_node_index = node_a_index + 1\n",
    "        new_node = random_nodes_list[new_node_index]\n",
    "        predicted_graph.add_undirected_edge(existing_node.get_part(), new_node.get_part())\n",
    "\n",
    "    edge_accuracies.append(edge_accuracy(test_graph, predicted_graph) / (node_count * node_count))\n",
    "\n",
    "sum(edge_accuracies) / len(edge_accuracies)"
   ],
   "metadata": {
    "collapsed": false
   }
  }
 ],
 "metadata": {
  "kernelspec": {
   "display_name": "Python 3",
   "language": "python",
   "name": "python3"
  },
  "language_info": {
   "codemirror_mode": {
    "name": "ipython",
    "version": 2
   },
   "file_extension": ".py",
   "mimetype": "text/x-python",
   "name": "python",
   "nbconvert_exporter": "python",
   "pygments_lexer": "ipython2",
   "version": "2.7.6"
  }
 },
 "nbformat": 4,
 "nbformat_minor": 0
}
