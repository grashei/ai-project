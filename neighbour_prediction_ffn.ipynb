{
 "cells": [
  {
   "cell_type": "code",
   "execution_count": 24,
   "outputs": [],
   "source": [
    "import random\n",
    "import time\n",
    "from math import ceil\n",
    "from typing import Dict, Tuple\n",
    "from typing import List, Set\n",
    "\n",
    "import torch\n",
    "from torch import Tensor\n",
    "from torch import nn\n",
    "from torch.utils.data import Dataset, DataLoader\n",
    "\n",
    "from graph import Graph\n",
    "from part import Part\n",
    "from preprocess import create_family_id_mapping\n",
    "from mapping import FamilyIdMapper\n",
    "from utils import load_graphs\n",
    "from matplotlib import pyplot as plt\n",
    "from tqdm import tqdm"
   ],
   "metadata": {
    "collapsed": false
   }
  },
  {
   "cell_type": "code",
   "execution_count": 25,
   "outputs": [],
   "source": [
    "graphs = load_graphs()\n",
    "mapping = create_family_id_mapping(graphs)\n",
    "fam_mapping = FamilyIdMapper(graphs)\n",
    "\n",
    "seed = 7\n",
    "random = random.Random(seed)\n",
    "random.shuffle(graphs)\n",
    "\n",
    "training_set_size_ratio = 0.8\n",
    "validation_set_size_ratio = 0.1\n",
    "batch_size = 1024\n",
    "\n",
    "input_size = 2 * len(mapping)  # 184\n",
    "output_size = len(mapping)  # 92\n",
    "\n",
    "input_size = input_size\n",
    "hidden_size = 2 * input_size\n",
    "output_size = output_size\n",
    "\n",
    "learning_rate = 0.003\n",
    "num_epochs = 50"
   ],
   "metadata": {
    "collapsed": false
   }
  },
  {
   "cell_type": "code",
   "execution_count": 26,
   "outputs": [],
   "source": [
    "def create_features(graph: Graph, fam_mapping: FamilyIdMapper) -> Tuple[List[Tensor], List[Tensor]]:\n",
    "    num_different_family_ids = fam_mapping.get_len()\n",
    "\n",
    "    # Create a tensor for existing nodes and count their occurrences\n",
    "    all_nodes_tensor = torch.zeros(num_different_family_ids, dtype=torch.float)\n",
    "    nodes = graph.get_nodes()\n",
    "    edges = graph.get_edges()\n",
    "\n",
    "    feature_tensors = []\n",
    "    target_tensors = []\n",
    "\n",
    "    for node in nodes:\n",
    "        dense_family_id = fam_mapping.to_dense(int(node.get_part().get_family_id()))\n",
    "        all_nodes_tensor[dense_family_id] += 1.0\n",
    "\n",
    "        target_tensor = torch.zeros(num_different_family_ids, dtype=torch.float)\n",
    "        for neighbour_node in edges[node]:\n",
    "            neighbour_node_dense_family_id = fam_mapping.to_dense(int(neighbour_node.get_part().get_family_id()))\n",
    "            target_tensor[neighbour_node_dense_family_id] = 1\n",
    "        target_tensors.append(target_tensor)\n",
    "\n",
    "    for node in nodes:\n",
    "        dense_family_id = fam_mapping.to_dense(int(node.get_part().get_family_id()))\n",
    "        given_node_tensor = torch.zeros(num_different_family_ids, dtype=torch.float)\n",
    "        given_node_tensor[dense_family_id] = 1\n",
    "\n",
    "        feature_tensors.append(torch.cat((all_nodes_tensor, given_node_tensor), dim=-1))\n",
    "\n",
    "    return feature_tensors, target_tensors"
   ],
   "metadata": {
    "collapsed": false
   }
  },
  {
   "cell_type": "code",
   "execution_count": 27,
   "outputs": [],
   "source": [
    "# split data into train, val and test - they are already shuffled\n",
    "\n",
    "train_upper = ceil(training_set_size_ratio * len(graphs))\n",
    "val_upper = ceil((training_set_size_ratio + validation_set_size_ratio) * len(graphs))\n",
    "\n",
    "train_graphs = graphs[0:train_upper]\n",
    "val_graphs = graphs[train_upper:val_upper]\n",
    "test_graphs = graphs[val_upper:len(graphs) + 1]\n",
    "\n",
    "\n",
    "class GraphDataset(Dataset):\n",
    "    def __init__(self, graphs: List[Graph]):\n",
    "        x_list = []\n",
    "        y_list = []\n",
    "        for graph in graphs:\n",
    "            x_per_graph, y_per_graph = create_features(graph, fam_mapping)\n",
    "            x_list += x_per_graph\n",
    "            y_list += y_per_graph\n",
    "        self.x_tensor = torch.stack(x_list)\n",
    "        self.y_tensor = torch.stack(y_list)\n",
    "        self.n_samples = self.y_tensor.shape[0]\n",
    "\n",
    "    def __getitem__(self, index):\n",
    "        return self.x_tensor[index], self.y_tensor[index]\n",
    "\n",
    "    def __len__(self):\n",
    "        return self.n_samples\n",
    "\n",
    "\n",
    "train_loader = DataLoader(\n",
    "    dataset=GraphDataset(train_graphs),\n",
    "    batch_size=batch_size,\n",
    "    shuffle=True,\n",
    ")\n",
    "val_loader = DataLoader(\n",
    "    dataset=GraphDataset(val_graphs),\n",
    "    batch_size=batch_size,\n",
    "    shuffle=False,\n",
    ")"
   ],
   "metadata": {
    "collapsed": false
   }
  },
  {
   "cell_type": "code",
   "execution_count": 28,
   "outputs": [
    {
     "name": "stderr",
     "output_type": "stream",
     "text": [
      "100%|██████████| 50/50 [00:30<00:00,  1.64it/s]\n"
     ]
    }
   ],
   "source": [
    "class Net(nn.Module):\n",
    "    def __init__(self):\n",
    "        super(Net, self).__init__()\n",
    "        self.fc1 = nn.Linear(input_size, hidden_size)\n",
    "        # self.fc2 = nn.Linear(..., ...)\n",
    "        self.fc3 = nn.Linear(hidden_size, output_size)\n",
    "\n",
    "    def forward(self, x):\n",
    "        x = torch.relu(self.fc1(x))\n",
    "        # x = torch.relu(self.fc2(x))\n",
    "        x = torch.sigmoid(self.fc3(x))\n",
    "        return x\n",
    "\n",
    "st = time.time()\n",
    "\n",
    "device = torch.device(\"cuda\" if torch.cuda.is_available() else \"mps\" if torch.has_mps else \"cpu\")\n",
    "model = Net().to(device)\n",
    "n_total_steps = len(train_loader)\n",
    "\n",
    "optimizer = torch.optim.Adam(model.parameters(), lr=learning_rate)\n",
    "loss_fn = nn.BCELoss()\n",
    "train_losses = []\n",
    "val_losses = []\n",
    "\n",
    "train_accuracies = []\n",
    "val_accuracies = []\n",
    "\n",
    "for epoch in tqdm(range(num_epochs),ascii=\"░▒█\"):\n",
    "    train_losses_per_epoch = 0.0\n",
    "    train_accuracy_per_epoch = 0.0\n",
    "    for i, (x_train, y_train) in enumerate(train_loader):\n",
    "        x_train = x_train.to(device)\n",
    "        y_train = y_train.to(device)\n",
    "        y_pred = model(x_train)\n",
    "        loss = loss_fn(y_pred, y_train)\n",
    "        train_losses_per_epoch += loss.cpu().detach().numpy()\n",
    "        train_accuracy = torch.sum(y_train == y_pred.round()) / torch.numel(y_train)\n",
    "        train_accuracy_per_epoch += train_accuracy.cpu().detach().numpy()\n",
    "        optimizer.zero_grad()\n",
    "        loss.backward()\n",
    "        optimizer.step()\n",
    "\n",
    "    train_losses.append(train_losses_per_epoch / len(train_loader))\n",
    "    train_accuracies.append(train_accuracy_per_epoch / len(train_loader))\n",
    "\n",
    "    with torch.no_grad():\n",
    "        val_losses_per_epoch = 0.0\n",
    "        val_accuracies_per_epoch = 0.0\n",
    "        for i, (x_val, y_val) in enumerate(val_loader):\n",
    "            x_val = x_val.to(device)\n",
    "            y_val = y_val.to(device)\n",
    "            y_pred = model(x_val)\n",
    "            loss = loss_fn(y_pred, y_val)\n",
    "            val_accuracy = torch.sum(y_val == y_pred.round()) / torch.numel(y_val)\n",
    "            val_losses_per_epoch += loss.cpu()\n",
    "            val_accuracies_per_epoch += val_accuracy.cpu()\n",
    "        val_losses.append(val_losses_per_epoch / len(val_loader))\n",
    "        val_accuracies.append(val_accuracies_per_epoch / len(val_loader))\n",
    "\n",
    "et = time.time()\n",
    "print(f\"Execution time: {(et - st):.2f}s\")"
   ],
   "metadata": {
    "collapsed": false
   }
  },
  {
   "cell_type": "code",
   "execution_count": 29,
   "outputs": [
    {
     "data": {
      "text/plain": "<Figure size 640x480 with 1 Axes>",
      "image/png": "[encoded data removed]"
     },
     "metadata": {},
     "output_type": "display_data"
    },
    {
     "data": {
      "text/plain": "<Figure size 640x480 with 1 Axes>",
      "image/png": "[encoded data removed]"
     },
     "metadata": {},
     "output_type": "display_data"
    }
   ],
   "source": [
    "plt.plot(train_losses, label=\"Training Loss\")\n",
    "plt.plot(val_losses, label=\"Validation Loss\")\n",
    "plt.legend()\n",
    "# plt.yscale('log')\n",
    "plt.show()\n",
    "\n",
    "plt.plot(train_accuracies, label=\"Train Accuracy\")\n",
    "plt.plot(val_accuracies, label=\"Validation Accuracy\")\n",
    "plt.legend()\n",
    "# plt.yscale('log')\n",
    "plt.show()"
   ],
   "metadata": {
    "collapsed": false
   }
  },
  {
   "cell_type": "code",
   "execution_count": 37,
   "outputs": [
    {
     "name": "stderr",
     "output_type": "stream",
     "text": [
      "100%|██████████| 1115/1115 [01:08<00:00, 16.33it/s]"
     ]
    },
    {
     "name": "stdout",
     "output_type": "stream",
     "text": [
      "Edge accuracy: 0.9748523828149492\n",
      "Execution time: 68.28s\n"
     ]
    },
    {
     "name": "stderr",
     "output_type": "stream",
     "text": [
      "\n"
     ]
    }
   ],
   "source": [
    "from evaluation import edge_accuracy\n",
    "\n",
    "st = time.time()\n",
    "\n",
    "edge_accuracies = []\n",
    "cpu_model = model.cpu()\n",
    "with torch.no_grad():\n",
    "    with tqdm(test_graphs) as val_graphs_with_progress:\n",
    "        for index, test_graph in enumerate(val_graphs_with_progress):\n",
    "            # matrix dimensions: x = nodes_list index, y = dense family id\n",
    "            predicted_adjacency_matrix = []\n",
    "            predicted_graph = Graph()\n",
    "            x, y = create_features(test_graph, fam_mapping)\n",
    "            for x_test, y_test in zip(x, y):\n",
    "                y_test_pred = cpu_model(x_test)\n",
    "                predicted_adjacency_matrix.append(y_test_pred)\n",
    "            predicted_adjacency_matrix = torch.stack(predicted_adjacency_matrix)\n",
    "\n",
    "            nodes = test_graph.get_nodes()\n",
    "            nodes_list = list(nodes)\n",
    "            node_count = len(nodes)\n",
    "            added_nodes = set()\n",
    "            last_rep_node_a_index = -1\n",
    "            last_node_b_dense_family_id = -1\n",
    "            predicted_graph_edge_count = 0\n",
    "\n",
    "            while True:\n",
    "                max_pos_tensor = (predicted_adjacency_matrix == torch.max(predicted_adjacency_matrix)).nonzero()\n",
    "                rep_node_a_index = max_pos_tensor[0][0].item()\n",
    "                node_b_dense_family_id = max_pos_tensor[0][1].item()\n",
    "\n",
    "                if rep_node_a_index == last_rep_node_a_index and node_b_dense_family_id == last_node_b_dense_family_id:\n",
    "                    break\n",
    "                last_rep_node_a_index = rep_node_a_index\n",
    "                last_node_b_dense_family_id = node_b_dense_family_id\n",
    "\n",
    "                node_a_family_id = int(nodes_list[rep_node_a_index].get_part().get_family_id())\n",
    "                node_b_family_id = fam_mapping.to_orig(node_b_dense_family_id)\n",
    "                node_a_dense_family_id = fam_mapping.to_dense(node_a_family_id)\n",
    "\n",
    "                for node_a_index, node_a in enumerate(nodes_list):\n",
    "                    if int(node_a.get_part().get_family_id()) == node_a_family_id:\n",
    "                        for node_b_index, node_b in enumerate(nodes_list):\n",
    "                            if int(node_b.get_part().get_family_id()) == node_b_family_id:\n",
    "                                if not (node_a in added_nodes and node_b in added_nodes):\n",
    "                                    predicted_graph.add_undirected_edge(node_a.get_part(), node_b.get_part())\n",
    "                                    predicted_graph_edge_count += 1\n",
    "                                    added_nodes.add(node_a)\n",
    "                                    added_nodes.add(node_b)\n",
    "                                    break\n",
    "\n",
    "                                # non-necessary performance optimization\n",
    "                                predicted_adjacency_matrix[node_a_index][node_b_dense_family_id] = 0.0\n",
    "                                predicted_adjacency_matrix[node_b_index][node_a_dense_family_id] = 0.0\n",
    "                predicted_adjacency_matrix[rep_node_a_index][node_b_dense_family_id] = 0.0\n",
    "                if predicted_graph_edge_count == node_count - 1:\n",
    "                    break\n",
    "            graph_edge_accuracy = edge_accuracy(test_graph, predicted_graph) / (node_count * node_count)\n",
    "            # print(f\"edge_accuracy: {graph_edge_accuracy}\")\n",
    "            # test_graph.draw()\n",
    "            # predicted_graph.draw()\n",
    "            # print(\"----\")\n",
    "\n",
    "            edge_accuracies.append(graph_edge_accuracy)\n",
    "print(f\"Edge accuracy: {sum(edge_accuracies) / len(edge_accuracies)}\")\n",
    "\n",
    "et = time.time()\n",
    "print(f\"Execution time: {(et - st):.2f}s\")"
   ],
   "metadata": {
    "collapsed": false
   }
  },
  {
   "cell_type": "code",
   "execution_count": 22,
   "outputs": [
    {
     "ename": "KeyboardInterrupt",
     "evalue": "",
     "output_type": "error",
     "traceback": [
      "\u001B[0;31m---------------------------------------------------------------------------\u001B[0m",
      "\u001B[0;31mKeyboardInterrupt\u001B[0m                         Traceback (most recent call last)",
      "Cell \u001B[0;32mIn[22], line 19\u001B[0m\n\u001B[1;32m     16\u001B[0m         new_node \u001B[38;5;241m=\u001B[39m random_nodes_list[new_node_index]\n\u001B[1;32m     17\u001B[0m         predicted_graph\u001B[38;5;241m.\u001B[39madd_undirected_edge(existing_node\u001B[38;5;241m.\u001B[39mget_part(), new_node\u001B[38;5;241m.\u001B[39mget_part())\n\u001B[0;32m---> 19\u001B[0m     edge_accuracies\u001B[38;5;241m.\u001B[39mappend(\u001B[43medge_accuracy\u001B[49m\u001B[43m(\u001B[49m\u001B[43mtest_graph\u001B[49m\u001B[43m,\u001B[49m\u001B[43m \u001B[49m\u001B[43mpredicted_graph\u001B[49m\u001B[43m)\u001B[49m \u001B[38;5;241m/\u001B[39m (node_count \u001B[38;5;241m*\u001B[39m node_count))\n\u001B[1;32m     21\u001B[0m \u001B[38;5;28msum\u001B[39m(edge_accuracies) \u001B[38;5;241m/\u001B[39m \u001B[38;5;28mlen\u001B[39m(edge_accuracies)\n",
      "File \u001B[0;32m~/Library/CloudStorage/OneDrive-Persönlich/Studium/9. Semester/Artificial Intelligence/Project/ai-lecture-project/evaluation.py:121\u001B[0m, in \u001B[0;36medge_accuracy\u001B[0;34m(predicted_graph, target_graph)\u001B[0m\n\u001B[1;32m    119\u001B[0m \u001B[38;5;28;01mif\u001B[39;00m i \u001B[38;5;241m>\u001B[39m \u001B[38;5;241m10_000\u001B[39m:\n\u001B[1;32m    120\u001B[0m     \u001B[38;5;28;01mbreak\u001B[39;00m\n\u001B[0;32m--> 121\u001B[0m predicted_adj_matrix \u001B[38;5;241m=\u001B[39m \u001B[43mpredicted_graph\u001B[49m\u001B[38;5;241;43m.\u001B[39;49m\u001B[43mget_adjacency_matrix\u001B[49m\u001B[43m(\u001B[49m\u001B[43mperm\u001B[49m\u001B[43m)\u001B[49m\n\u001B[1;32m    122\u001B[0m score \u001B[38;5;241m=\u001B[39m np\u001B[38;5;241m.\u001B[39msum(predicted_adj_matrix \u001B[38;5;241m==\u001B[39m target_adj_matrix)\n\u001B[1;32m    123\u001B[0m best_score \u001B[38;5;241m=\u001B[39m \u001B[38;5;28mmax\u001B[39m(best_score, score)\n",
      "File \u001B[0;32m~/Library/CloudStorage/OneDrive-Persönlich/Studium/9. Semester/Artificial Intelligence/Project/ai-lecture-project/graph.py:294\u001B[0m, in \u001B[0;36mGraph.get_adjacency_matrix\u001B[0;34m(self, part_order)\u001B[0m\n\u001B[1;32m    291\u001B[0m node \u001B[38;5;241m=\u001B[39m \u001B[38;5;28mself\u001B[39m\u001B[38;5;241m.\u001B[39m__get_node_for_part(part)\n\u001B[1;32m    293\u001B[0m \u001B[38;5;28;01mfor\u001B[39;00m idx2, part2 \u001B[38;5;129;01min\u001B[39;00m \u001B[38;5;28menumerate\u001B[39m(part_order):\n\u001B[0;32m--> 294\u001B[0m     node2 \u001B[38;5;241m=\u001B[39m \u001B[38;5;28;43mself\u001B[39;49m\u001B[38;5;241;43m.\u001B[39;49m\u001B[43m__get_node_for_part\u001B[49m\u001B[43m(\u001B[49m\u001B[43mpart2\u001B[49m\u001B[43m)\u001B[49m\n\u001B[1;32m    296\u001B[0m     \u001B[38;5;28;01mif\u001B[39;00m node2 \u001B[38;5;129;01min\u001B[39;00m edges[node]:\n\u001B[1;32m    297\u001B[0m         adj_matrix[idx, idx2] \u001B[38;5;241m=\u001B[39m adj_matrix[idx2, idx] \u001B[38;5;241m=\u001B[39m \u001B[38;5;241m1\u001B[39m\n",
      "File \u001B[0;32m~/Library/CloudStorage/OneDrive-Persönlich/Studium/9. Semester/Artificial Intelligence/Project/ai-lecture-project/graph.py:74\u001B[0m, in \u001B[0;36mGraph.__get_node_for_part\u001B[0;34m(self, part)\u001B[0m\n\u001B[1;32m     67\u001B[0m \u001B[38;5;28;01mdef\u001B[39;00m \u001B[38;5;21m__get_node_for_part\u001B[39m(\u001B[38;5;28mself\u001B[39m, part: Part) \u001B[38;5;241m-\u001B[39m\u001B[38;5;241m>\u001B[39m Node:\n\u001B[1;32m     68\u001B[0m     \u001B[38;5;124;03m\"\"\"\u001B[39;00m\n\u001B[1;32m     69\u001B[0m \u001B[38;5;124;03m    Returns a node of the graph for the given part. If the part is already known in the graph, the\u001B[39;00m\n\u001B[1;32m     70\u001B[0m \u001B[38;5;124;03m    corresponding node is returned, else a new node is created.\u001B[39;00m\n\u001B[1;32m     71\u001B[0m \u001B[38;5;124;03m    :param part: part\u001B[39;00m\n\u001B[1;32m     72\u001B[0m \u001B[38;5;124;03m    :return: corresponding node for the given part\u001B[39;00m\n\u001B[1;32m     73\u001B[0m \u001B[38;5;124;03m    \"\"\"\u001B[39;00m\n\u001B[0;32m---> 74\u001B[0m     \u001B[38;5;28;01mif\u001B[39;00m part \u001B[38;5;129;01mnot\u001B[39;00m \u001B[38;5;129;01min\u001B[39;00m \u001B[38;5;28;43mself\u001B[39;49m\u001B[38;5;241;43m.\u001B[39;49m\u001B[43mget_parts\u001B[49m\u001B[43m(\u001B[49m\u001B[43m)\u001B[49m:\n\u001B[1;32m     75\u001B[0m         \u001B[38;5;66;03m# create new node for part\u001B[39;00m\n\u001B[1;32m     76\u001B[0m         node \u001B[38;5;241m=\u001B[39m Node(\u001B[38;5;28mself\u001B[39m\u001B[38;5;241m.\u001B[39m__node_counter, part)\n\u001B[1;32m     77\u001B[0m         \u001B[38;5;28mself\u001B[39m\u001B[38;5;241m.\u001B[39m__node_counter \u001B[38;5;241m+\u001B[39m\u001B[38;5;241m=\u001B[39m \u001B[38;5;241m1\u001B[39m\n",
      "File \u001B[0;32m~/Library/CloudStorage/OneDrive-Persönlich/Studium/9. Semester/Artificial Intelligence/Project/ai-lecture-project/graph.py:220\u001B[0m, in \u001B[0;36mGraph.get_parts\u001B[0;34m(self)\u001B[0m\n\u001B[1;32m    215\u001B[0m \u001B[38;5;28;01mdef\u001B[39;00m \u001B[38;5;21mget_parts\u001B[39m(\u001B[38;5;28mself\u001B[39m) \u001B[38;5;241m-\u001B[39m\u001B[38;5;241m>\u001B[39m Set[Part]:\n\u001B[1;32m    216\u001B[0m     \u001B[38;5;124;03m\"\"\"\u001B[39;00m\n\u001B[1;32m    217\u001B[0m \u001B[38;5;124;03m    Returns a set of all parts of the graph.\u001B[39;00m\n\u001B[1;32m    218\u001B[0m \u001B[38;5;124;03m    :return: set of all parts\u001B[39;00m\n\u001B[1;32m    219\u001B[0m \u001B[38;5;124;03m    \"\"\"\u001B[39;00m\n\u001B[0;32m--> 220\u001B[0m     \u001B[38;5;28;01mreturn\u001B[39;00m {node\u001B[38;5;241m.\u001B[39mget_part() \u001B[38;5;28;01mfor\u001B[39;00m node \u001B[38;5;129;01min\u001B[39;00m \u001B[38;5;28mself\u001B[39m\u001B[38;5;241m.\u001B[39mget_nodes()}\n",
      "File \u001B[0;32m~/Library/CloudStorage/OneDrive-Persönlich/Studium/9. Semester/Artificial Intelligence/Project/ai-lecture-project/graph.py:220\u001B[0m, in \u001B[0;36m<setcomp>\u001B[0;34m(.0)\u001B[0m\n\u001B[1;32m    215\u001B[0m \u001B[38;5;28;01mdef\u001B[39;00m \u001B[38;5;21mget_parts\u001B[39m(\u001B[38;5;28mself\u001B[39m) \u001B[38;5;241m-\u001B[39m\u001B[38;5;241m>\u001B[39m Set[Part]:\n\u001B[1;32m    216\u001B[0m     \u001B[38;5;124;03m\"\"\"\u001B[39;00m\n\u001B[1;32m    217\u001B[0m \u001B[38;5;124;03m    Returns a set of all parts of the graph.\u001B[39;00m\n\u001B[1;32m    218\u001B[0m \u001B[38;5;124;03m    :return: set of all parts\u001B[39;00m\n\u001B[1;32m    219\u001B[0m \u001B[38;5;124;03m    \"\"\"\u001B[39;00m\n\u001B[0;32m--> 220\u001B[0m     \u001B[38;5;28;01mreturn\u001B[39;00m {node\u001B[38;5;241m.\u001B[39mget_part() \u001B[38;5;28;01mfor\u001B[39;00m node \u001B[38;5;129;01min\u001B[39;00m \u001B[38;5;28mself\u001B[39m\u001B[38;5;241m.\u001B[39mget_nodes()}\n",
      "File \u001B[0;32m~/Library/CloudStorage/OneDrive-Persönlich/Studium/9. Semester/Artificial Intelligence/Project/ai-lecture-project/part.py:37\u001B[0m, in \u001B[0;36mPart.__hash__\u001B[0;34m(self)\u001B[0m\n\u001B[1;32m     31\u001B[0m     \u001B[38;5;124;03m\"\"\"\u001B[39;00m\n\u001B[1;32m     32\u001B[0m \u001B[38;5;124;03m    Returns a string representation of the current Part object.\u001B[39;00m\n\u001B[1;32m     33\u001B[0m \u001B[38;5;124;03m    :return: string representation\u001B[39;00m\n\u001B[1;32m     34\u001B[0m \u001B[38;5;124;03m    \"\"\"\u001B[39;00m\n\u001B[1;32m     35\u001B[0m     \u001B[38;5;28;01mreturn\u001B[39;00m \u001B[38;5;124mf\u001B[39m\u001B[38;5;124m'\u001B[39m\u001B[38;5;132;01m{\u001B[39;00m\u001B[38;5;28mself\u001B[39m\u001B[38;5;241m.\u001B[39m\u001B[38;5;18m__class__\u001B[39m\u001B[38;5;241m.\u001B[39m\u001B[38;5;18m__name__\u001B[39m\u001B[38;5;132;01m}\u001B[39;00m\u001B[38;5;124m(PartID=\u001B[39m\u001B[38;5;132;01m{\u001B[39;00m\u001B[38;5;28mself\u001B[39m\u001B[38;5;241m.\u001B[39mget_part_id()\u001B[38;5;132;01m}\u001B[39;00m\u001B[38;5;124m, FamilyID=\u001B[39m\u001B[38;5;132;01m{\u001B[39;00m\u001B[38;5;28mself\u001B[39m\u001B[38;5;241m.\u001B[39mget_family_id()\u001B[38;5;132;01m}\u001B[39;00m\u001B[38;5;124m)\u001B[39m\u001B[38;5;124m'\u001B[39m\n\u001B[0;32m---> 37\u001B[0m \u001B[38;5;28;01mdef\u001B[39;00m \u001B[38;5;21m__hash__\u001B[39m(\u001B[38;5;28mself\u001B[39m) \u001B[38;5;241m-\u001B[39m\u001B[38;5;241m>\u001B[39m \u001B[38;5;28mint\u001B[39m:\n\u001B[1;32m     38\u001B[0m     \u001B[38;5;124;03m\"\"\" Defines hash of a component. Needed for software tests. \"\"\"\u001B[39;00m\n\u001B[1;32m     39\u001B[0m     \u001B[38;5;28;01mreturn\u001B[39;00m \u001B[38;5;28mhash\u001B[39m((\u001B[38;5;28mself\u001B[39m\u001B[38;5;241m.\u001B[39mget_part_id(), \u001B[38;5;28mself\u001B[39m\u001B[38;5;241m.\u001B[39mget_family_id()))\n",
      "\u001B[0;31mKeyboardInterrupt\u001B[0m: "
     ]
    }
   ],
   "source": [
    "# Test accuracy of randomly generated trees\n",
    "edge_accuracies = []\n",
    "for test_graph in test_graphs[:100]:\n",
    "    predicted_graph = Graph()\n",
    "    nodes = test_graph.get_nodes()\n",
    "    node_count = len(nodes)\n",
    "    random_nodes_list = list(nodes)\n",
    "    random.shuffle(random_nodes_list)\n",
    "    node_a_index = 0\n",
    "    node_b_index = 1\n",
    "\n",
    "    for node_a_index in range(node_count - 1):\n",
    "        existing_node_index = random.randint(0, node_a_index)\n",
    "        existing_node = random_nodes_list[existing_node_index]\n",
    "        new_node_index = node_a_index + 1\n",
    "        new_node = random_nodes_list[new_node_index]\n",
    "        predicted_graph.add_undirected_edge(existing_node.get_part(), new_node.get_part())\n",
    "\n",
    "    edge_accuracies.append(edge_accuracy(test_graph, predicted_graph) / (node_count * node_count))\n",
    "\n",
    "sum(edge_accuracies) / len(edge_accuracies)"
   ],
   "metadata": {
    "collapsed": false
   }
  },
  {
   "cell_type": "code",
   "execution_count": null,
   "outputs": [],
   "source": [],
   "metadata": {
    "collapsed": false
   }
  }
 ],
 "metadata": {
  "kernelspec": {
   "display_name": "Python 3",
   "language": "python",
   "name": "python3"
  },
  "language_info": {
   "codemirror_mode": {
    "name": "ipython",
    "version": 2
   },
   "file_extension": ".py",
   "mimetype": "text/x-python",
   "name": "python",
   "nbconvert_exporter": "python",
   "pygments_lexer": "ipython2",
   "version": "2.7.6"
  }
 },
 "nbformat": 4,
 "nbformat_minor": 0
}
